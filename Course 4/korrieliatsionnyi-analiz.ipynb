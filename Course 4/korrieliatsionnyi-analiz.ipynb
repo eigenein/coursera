{
 "cells": [
  {
   "cell_type": "code",
   "execution_count": 31,
   "metadata": {},
   "outputs": [],
   "source": [
    "from math import sqrt\n",
    "\n",
    "import numpy\n",
    "import pandas\n",
    "from scipy import stats"
   ]
  },
  {
   "cell_type": "markdown",
   "metadata": {},
   "source": [
    "# 1"
   ]
  },
  {
   "cell_type": "code",
   "execution_count": 2,
   "metadata": {},
   "outputs": [
    {
     "data": {
      "text/html": [
       "<div>\n",
       "<style>\n",
       "    .dataframe thead tr:only-child th {\n",
       "        text-align: right;\n",
       "    }\n",
       "\n",
       "    .dataframe thead th {\n",
       "        text-align: left;\n",
       "    }\n",
       "\n",
       "    .dataframe tbody tr th {\n",
       "        vertical-align: top;\n",
       "    }\n",
       "</style>\n",
       "<table border=\"1\" class=\"dataframe\">\n",
       "  <thead>\n",
       "    <tr style=\"text-align: right;\">\n",
       "      <th></th>\n",
       "      <th>location</th>\n",
       "      <th>town</th>\n",
       "      <th>mortality</th>\n",
       "      <th>hardness</th>\n",
       "    </tr>\n",
       "  </thead>\n",
       "  <tbody>\n",
       "    <tr>\n",
       "      <th>0</th>\n",
       "      <td>South</td>\n",
       "      <td>Bath</td>\n",
       "      <td>1247</td>\n",
       "      <td>105</td>\n",
       "    </tr>\n",
       "    <tr>\n",
       "      <th>1</th>\n",
       "      <td>North</td>\n",
       "      <td>Birkenhead</td>\n",
       "      <td>1668</td>\n",
       "      <td>17</td>\n",
       "    </tr>\n",
       "    <tr>\n",
       "      <th>2</th>\n",
       "      <td>South</td>\n",
       "      <td>Birmingham</td>\n",
       "      <td>1466</td>\n",
       "      <td>5</td>\n",
       "    </tr>\n",
       "    <tr>\n",
       "      <th>3</th>\n",
       "      <td>North</td>\n",
       "      <td>Blackburn</td>\n",
       "      <td>1800</td>\n",
       "      <td>14</td>\n",
       "    </tr>\n",
       "    <tr>\n",
       "      <th>4</th>\n",
       "      <td>North</td>\n",
       "      <td>Blackpool</td>\n",
       "      <td>1609</td>\n",
       "      <td>18</td>\n",
       "    </tr>\n",
       "  </tbody>\n",
       "</table>\n",
       "</div>"
      ],
      "text/plain": [
       "  location        town  mortality  hardness\n",
       "0    South        Bath       1247       105\n",
       "1    North  Birkenhead       1668        17\n",
       "2    South  Birmingham       1466         5\n",
       "3    North   Blackburn       1800        14\n",
       "4    North   Blackpool       1609        18"
      ]
     },
     "execution_count": 2,
     "metadata": {},
     "output_type": "execute_result"
    }
   ],
   "source": [
    "water = pandas.read_table('water.txt', sep='\\t')\n",
    "water.head()"
   ]
  },
  {
   "cell_type": "code",
   "execution_count": 10,
   "metadata": {},
   "outputs": [
    {
     "name": "stdout",
     "output_type": "stream",
     "text": [
      "-0.6548\n"
     ]
    }
   ],
   "source": [
    "correlation = water[\"hardness\"].corr(water[\"mortality\"])\n",
    "print(f'{correlation:.4f}')"
   ]
  },
  {
   "cell_type": "markdown",
   "metadata": {},
   "source": [
    "# 2"
   ]
  },
  {
   "cell_type": "code",
   "execution_count": 11,
   "metadata": {},
   "outputs": [
    {
     "name": "stdout",
     "output_type": "stream",
     "text": [
      "-0.6317\n"
     ]
    }
   ],
   "source": [
    "correlation = water[\"hardness\"].corr(water[\"mortality\"], method=\"spearman\")\n",
    "print(f'{correlation:.4f}')"
   ]
  },
  {
   "cell_type": "markdown",
   "metadata": {},
   "source": [
    "# 3"
   ]
  },
  {
   "cell_type": "code",
   "execution_count": 23,
   "metadata": {},
   "outputs": [
    {
     "name": "stdout",
     "output_type": "stream",
     "text": [
      "North: -0.3686\n",
      "South: -0.6022\n",
      "Answer: -0.3686\n"
     ]
    }
   ],
   "source": [
    "north = water[water['location'] == 'North']\n",
    "north_correlation = north['hardness'].corr(north['mortality'])\n",
    "print(f'North: {north_correlation:.4f}')\n",
    "\n",
    "south = water[water['location'] == 'South']\n",
    "south_correlation = south['hardness'].corr(south['mortality'])\n",
    "print(f'South: {south_correlation:.4f}')\n",
    "\n",
    "print(f'Answer: {min(north_correlation, south_correlation, key=abs):.4f}')"
   ]
  },
  {
   "cell_type": "markdown",
   "metadata": {},
   "source": [
    "# 4"
   ]
  },
  {
   "cell_type": "code",
   "execution_count": 28,
   "metadata": {},
   "outputs": [
    {
     "name": "stdout",
     "output_type": "stream",
     "text": [
      "-0.109\n"
     ]
    }
   ],
   "source": [
    "a = 203\n",
    "b = 239\n",
    "c = 718\n",
    "d = 515\n",
    "\n",
    "correlation = (a * d - b * c) / sqrt((a + b) * (a + c) * (b + d) * (c + d))\n",
    "print(f'{correlation:.3f}')"
   ]
  },
  {
   "cell_type": "markdown",
   "metadata": {},
   "source": [
    "# 5"
   ]
  },
  {
   "cell_type": "code",
   "execution_count": 37,
   "metadata": {},
   "outputs": [
    {
     "name": "stdout",
     "output_type": "stream",
     "text": [
      "1.055899E-05\n"
     ]
    }
   ],
   "source": [
    "chi2, p, dof, expected = stats.chi2_contingency(numpy.array([[203, 239], [718, 515]]))\n",
    "print(f'{p:E}')"
   ]
  },
  {
   "cell_type": "markdown",
   "metadata": {},
   "source": [
    "# 6"
   ]
  },
  {
   "cell_type": "code",
   "execution_count": 51,
   "metadata": {},
   "outputs": [
    {
     "name": "stdout",
     "output_type": "stream",
     "text": [
      "0.0539052332158 … 0.139221831415\n",
      "Answer: 0.0539\n"
     ]
    }
   ],
   "source": [
    "# Не используется, но я просто оставлю это здесь.\n",
    "def proportions_diff_confint_rel(f: float, g: float, n: int, alpha=0.05) -> (float, float):\n",
    "    z = stats.norm.ppf(1 - alpha / 2.)\n",
    "    mu = (f - g) / n\n",
    "    interval = z * sqrt((f + g) / n ** 2 - (f - g) ** 2 / (n ** 3))\n",
    "    return (mu - interval, mu + interval)\n",
    "\n",
    "\n",
    "def proportions_diff_confint_ind(s1: float, n1: float, s2: float, n2: float, alpha=0.05) -> (float, float):\n",
    "    z = stats.norm.ppf(1 - alpha / 2.)\n",
    "    \n",
    "    p1 = s1 / n1\n",
    "    p2 = s2 / n2\n",
    "    mu = p1 - p2\n",
    "    interval = z * sqrt(p1 * (1 - p1) / n1 + p2 * (1 - p2) / n2)\n",
    "    \n",
    "    return mu - interval, mu + interval\n",
    "\n",
    "\n",
    "# …вычитая долю женщин из доли мужчин.\n",
    "left, right = proportions_diff_confint_ind(239, 239 + 515, 203, 203 + 718)\n",
    "print(left, '…', right)\n",
    "print(f'Answer: {left:.4f}')"
   ]
  },
  {
   "cell_type": "markdown",
   "metadata": {},
   "source": [
    "# 7"
   ]
  },
  {
   "cell_type": "code",
   "execution_count": 38,
   "metadata": {},
   "outputs": [
    {
     "name": "stdout",
     "output_type": "stream",
     "text": [
      "8.153453E-06\n"
     ]
    }
   ],
   "source": [
    "def proportions_diff_z_test(z_stat, alternative='two-sided'):\n",
    "    if alternative == 'two-sided':\n",
    "        return 2 * (1 - stats.norm.cdf(abs(z_stat)))\n",
    "    \n",
    "    if alternative == 'less':\n",
    "        return stats.norm.cdf(z_stat)\n",
    "\n",
    "    if alternative == 'greater':\n",
    "        return 1 - stats.norm.cdf(z_stat)\n",
    "\n",
    "\n",
    "def proportions_diff_z_stat_ind(s1, n1, s2, n2):\n",
    "    p1 = s1 / n1\n",
    "    p2 = s2 / n2 \n",
    "    P = float(p1 * n1 + p2 * n2) / (n1 + n2)\n",
    "    \n",
    "    return (p1 - p2) / sqrt(P * (1 - P) * (1. / n1 + 1. / n2))\n",
    "\n",
    "\n",
    "p = proportions_diff_z_test(proportions_diff_z_stat_ind(203, 203 + 718, 239, 239 + 515), 'two-sided')\n",
    "print(f'{p:E}')"
   ]
  },
  {
   "cell_type": "markdown",
   "metadata": {},
   "source": [
    "# 8 & 9 & 10"
   ]
  },
  {
   "cell_type": "code",
   "execution_count": 45,
   "metadata": {},
   "outputs": [
    {
     "name": "stdout",
     "output_type": "stream",
     "text": [
      "Chi2: 293.6831\n",
      "p: 2.496430E-62\n",
      "V: 0.2412\n"
     ]
    }
   ],
   "source": [
    "def cramers_stat(observed):\n",
    "    \"\"\"\n",
    "    https://stackoverflow.com/a/38032115/359730\n",
    "    \"\"\"\n",
    "    chi2, *_ = stats.chi2_contingency(observed)\n",
    "    n = observed.sum()\n",
    "    return sqrt(chi2 / (n * (min(observed.shape) - 1)))\n",
    "\n",
    "\n",
    "observed = numpy.array([\n",
    "    [197, 111, 33],\n",
    "    [382, 685, 331],\n",
    "    [110, 342, 333],\n",
    "])\n",
    "\n",
    "chi2, p, dof, expected = stats.chi2_contingency(observed)\n",
    "print(f'Chi2: {chi2:.4f}')\n",
    "print(f'p: {p:E}')\n",
    "print(f'V: {cramers_stat(observed):.4f}')"
   ]
  }
 ],
 "metadata": {
  "kernelspec": {
   "display_name": "Python 3",
   "language": "python",
   "name": "python3"
  },
  "language_info": {
   "codemirror_mode": {
    "name": "ipython",
    "version": 3
   },
   "file_extension": ".py",
   "mimetype": "text/x-python",
   "name": "python",
   "nbconvert_exporter": "python",
   "pygments_lexer": "ipython3",
   "version": "3.6.4"
  }
 },
 "nbformat": 4,
 "nbformat_minor": 2
}
