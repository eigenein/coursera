{
 "cells": [
  {
   "cell_type": "markdown",
   "metadata": {},
   "source": [
    "# Неделя 4. Сравнение алгоритмов классификации"
   ]
  },
  {
   "cell_type": "code",
   "execution_count": 1,
   "metadata": {},
   "outputs": [
    {
     "name": "stdout",
     "output_type": "stream",
     "text": [
      "CPython 3.7.2\n",
      "IPython 7.2.0\n",
      "\n",
      "numpy 1.15.4\n",
      "scipy 1.2.0\n",
      "pandas 0.23.4\n",
      "matplotlib 3.0.2\n",
      "statsmodels 0.9.0\n",
      "sklearn 0.20.2\n",
      "seaborn 0.9.0\n",
      "tqdm 4.28.1\n",
      "\n",
      "compiler   : Clang 6.0 (clang-600.0.57)\n",
      "system     : Darwin\n",
      "release    : 18.5.0\n",
      "machine    : x86_64\n",
      "processor  : i386\n",
      "CPU cores  : 12\n",
      "interpreter: 64bit\n",
      "Git hash   : 13254b8efd76cdd0ceefc3bc1756dee1b0d29dee\n"
     ]
    }
   ],
   "source": [
    "%reload_ext watermark\n",
    "%watermark -v -m -p numpy,scipy,pandas,matplotlib,statsmodels,sklearn,seaborn,tqdm -g"
   ]
  },
  {
   "cell_type": "code",
   "execution_count": 2,
   "metadata": {},
   "outputs": [],
   "source": [
    "import csv\n",
    "from collections import Counter, defaultdict\n",
    "from functools import lru_cache\n",
    "from itertools import count, product\n",
    "from pathlib import Path\n",
    "from typing import Iterable, List, Tuple, TypeVar\n",
    "from warnings import catch_warnings, simplefilter\n",
    "\n",
    "import numpy\n",
    "import seaborn\n",
    "from matplotlib import pyplot\n",
    "from sklearn.ensemble import RandomForestClassifier\n",
    "from sklearn.linear_model import LogisticRegression, LogisticRegressionCV\n",
    "from sklearn.metrics import accuracy_score, f1_score\n",
    "from sklearn.model_selection import StratifiedKFold, GridSearchCV, train_test_split, cross_val_score\n",
    "from sklearn.neighbors import KNeighborsClassifier\n",
    "from sklearn.svm import LinearSVC\n",
    "from scipy.sparse import csr_matrix\n",
    "from tqdm import tqdm_notebook\n",
    "\n",
    "%matplotlib inline\n",
    "seaborn.set(rc={'figure.figsize': (16, 6)})"
   ]
  },
  {
   "cell_type": "markdown",
   "metadata": {},
   "source": [
    "## Часть 1. Сравнение нескольких алгоритмов на сессиях из 10 сайтов"
   ]
  },
  {
   "cell_type": "markdown",
   "metadata": {},
   "source": [
    "Загрузим сериализованные ранее объекты `X_sparse_10users` и `y_10users`, соответствующие обучающей выборке для 10 пользователей."
   ]
  },
  {
   "cell_type": "code",
   "execution_count": 3,
   "metadata": {},
   "outputs": [],
   "source": [
    "T = TypeVar('T')\n",
    "\n",
    "\n",
    "def windowed(iterable: Iterable[T], *, n: int, step: int) -> Iterable[List[T]]:\n",
    "    iterable = list(iterable)\n",
    "    for offset in range(0, len(iterable), step):\n",
    "        yield iterable[offset:offset + n]"
   ]
  },
  {
   "cell_type": "code",
   "execution_count": 4,
   "metadata": {},
   "outputs": [],
   "source": [
    "@lru_cache(None)\n",
    "def prepare_train_set(\n",
    "    path: Path, \n",
    "    session_length: int = 10,\n",
    "    window_size: int = 10,\n",
    ") -> Tuple[csr_matrix, numpy.ndarray]:\n",
    "    user_sessions: List[Tuple[int, Counter]] = [\n",
    "        (int(csv_path.stem[-4:]), Counter(session))\n",
    "        for csv_path in tqdm_notebook(sorted(path.glob('*.csv')), desc='CSVs')\n",
    "        for session in windowed(\n",
    "            (row['site'] for row in csv.DictReader(csv_path.open('rt'))),\n",
    "            n=session_length,\n",
    "            step=window_size,\n",
    "        )\n",
    "    ]\n",
    "    \n",
    "    site_ids = defaultdict(count().__next__)\n",
    "        \n",
    "    x = csr_matrix((\n",
    "        [value for _, session in user_sessions for value in session.values()],  # values are visit counts\n",
    "        (\n",
    "            [i for i, (_, session) in enumerate(user_sessions) for value in session.values()],  # row indices are session numbers\n",
    "            [site_ids[site] for _, session in user_sessions for site in session],  # column indices are site IDs\n",
    "        ),\n",
    "    ))\n",
    "    y = numpy.array([user_id for user_id, _ in user_sessions])\n",
    "    \n",
    "    return x, y"
   ]
  },
  {
   "cell_type": "code",
   "execution_count": 5,
   "metadata": {},
   "outputs": [
    {
     "data": {
      "application/vnd.jupyter.widget-view+json": {
       "model_id": "79a97e1f687d4a5987fd3257cf2a63aa",
       "version_major": 2,
       "version_minor": 0
      },
      "text/plain": [
       "HBox(children=(IntProgress(value=0, description='CSVs', max=10, style=ProgressStyle(description_width='initial…"
      ]
     },
     "metadata": {},
     "output_type": "display_data"
    },
    {
     "name": "stdout",
     "output_type": "stream",
     "text": [
      "\n"
     ]
    }
   ],
   "source": [
    "x_10users, y_10users = prepare_train_set(Path('10users'))"
   ]
  },
  {
   "cell_type": "markdown",
   "metadata": {},
   "source": [
    "Здесь более 14 тысяч сессий и почти 5 тысяч уникальных посещенных сайтов."
   ]
  },
  {
   "cell_type": "code",
   "execution_count": 6,
   "metadata": {},
   "outputs": [
    {
     "data": {
      "text/plain": [
       "(14061, 4913)"
      ]
     },
     "execution_count": 6,
     "metadata": {},
     "output_type": "execute_result"
    }
   ],
   "source": [
    "x_10users.shape"
   ]
  },
  {
   "cell_type": "markdown",
   "metadata": {},
   "source": [
    "Разобьем выборку на 2 части. На одной будем проводить кросс-валидацию, на второй – оценивать модель, обученную после кросс-валидации."
   ]
  },
  {
   "cell_type": "code",
   "execution_count": 69,
   "metadata": {},
   "outputs": [],
   "source": [
    "x_train, x_test, y_train, y_test = train_test_split(\n",
    "    x_10users, y_10users, test_size=0.3, random_state=17, stratify=y_10users)"
   ]
  },
  {
   "cell_type": "markdown",
   "metadata": {},
   "source": [
    "Зададим заранее тип кросс-валидации: 3-кратная, с перемешиванием, параметр `random_state=17` – для воспроизводимости."
   ]
  },
  {
   "cell_type": "code",
   "execution_count": 8,
   "metadata": {},
   "outputs": [],
   "source": [
    "cv = StratifiedKFold(n_splits=3, shuffle=True, random_state=17)"
   ]
  },
  {
   "cell_type": "markdown",
   "metadata": {},
   "source": [
    "Вспомогательная функция для отрисовки кривых валидации после запуска `GridSearchCV` (или `RandomizedCV`)."
   ]
  },
  {
   "cell_type": "code",
   "execution_count": 9,
   "metadata": {},
   "outputs": [],
   "source": [
    "def plot_validation_curves(param_values, grid_cv_results_):\n",
    "    train_mu, train_std = grid_cv_results_['mean_train_score'], grid_cv_results_['std_train_score']\n",
    "    valid_mu, valid_std = grid_cv_results_['mean_test_score'], grid_cv_results_['std_test_score']\n",
    "    train_line = pyplot.plot(param_values, train_mu, '-', label='train', color='green')\n",
    "    valid_line = pyplot.plot(param_values, valid_mu, '-', label='test', color='red')\n",
    "    pyplot.fill_between(\n",
    "        param_values,\n",
    "        train_mu - train_std,\n",
    "        train_mu + train_std,\n",
    "        edgecolor='none',\n",
    "        facecolor=train_line[0].get_color(),\n",
    "        alpha=0.2,\n",
    "    )\n",
    "    pyplot.fill_between(\n",
    "        param_values,\n",
    "        valid_mu - valid_std,\n",
    "        valid_mu + valid_std,\n",
    "        edgecolor='none',\n",
    "        facecolor=valid_line[0].get_color(),\n",
    "        alpha=0.2,\n",
    "    )\n",
    "    pyplot.legend()"
   ]
  },
  {
   "cell_type": "markdown",
   "metadata": {},
   "source": [
    "Обучите `KNeighborsClassifier` со 100 ближайшими соседями (остальные параметры оставьте по умолчанию, только `n_jobs=-1` для распараллеливания) и посмотрите на долю правильных ответов на 3-кратной кросс-валидации (ради воспроизводимости используйте для этого объект `StratifiedKFold` `skf`) по выборке `(X_train, y_train)` и отдельно на выборке `(X_valid, y_valid)`."
   ]
  },
  {
   "cell_type": "code",
   "execution_count": 10,
   "metadata": {},
   "outputs": [],
   "source": [
    "knn = KNeighborsClassifier(n_neighbors=100, n_jobs=-1)\n",
    "score_1 = cross_val_score(knn, x_train, y_train, cv=cv, n_jobs=-1).mean()\n",
    "score_2 = accuracy_score(y_test, knn.fit(x_train, y_train).predict(x_test))"
   ]
  },
  {
   "cell_type": "markdown",
   "metadata": {},
   "source": [
    "**Вопрос 1.** Посчитайте доли правильных ответов для `KNeighborsClassifier` на кросс-валидации и отложенной выборке. Округлите каждое до 3 знаков после запятой и введите через пробел."
   ]
  },
  {
   "cell_type": "code",
   "execution_count": 11,
   "metadata": {},
   "outputs": [
    {
     "name": "stdout",
     "output_type": "stream",
     "text": [
      "0.565 0.584"
     ]
    }
   ],
   "source": [
    "Path('answer4_1.txt').write_text(f'{score_1:.3f} {score_2:.3f}')\n",
    "!cat answer4_1.txt"
   ]
  },
  {
   "cell_type": "markdown",
   "metadata": {},
   "source": [
    "Обучите случайный лес (`RandomForestClassifier`) из 100 деревьев (для воспроизводимости `random_state=17`). Посмотрите на OOB-оценку (для этого надо сразу установить `oob_score=True`) и на долю правильных ответов на выборке `(X_valid, y_valid)`. Для распараллеливания задайте `n_jobs=-1`."
   ]
  },
  {
   "cell_type": "code",
   "execution_count": 12,
   "metadata": {},
   "outputs": [],
   "source": [
    "forest = RandomForestClassifier(n_estimators=100, random_state=17, oob_score=True, n_jobs=-1).fit(x_train, y_train)"
   ]
  },
  {
   "cell_type": "markdown",
   "metadata": {},
   "source": [
    "**Вопрос 2.** Посчитайте доли правильных ответов для `RandomForestClassifier` при Out-of-Bag оценке и на отложенной выборке. Округлите каждое до 3 знаков после запятой и введите через пробел."
   ]
  },
  {
   "cell_type": "code",
   "execution_count": 13,
   "metadata": {},
   "outputs": [],
   "source": [
    "score_2 = accuracy_score(y_test, forest.predict(x_test))"
   ]
  },
  {
   "cell_type": "code",
   "execution_count": 14,
   "metadata": {},
   "outputs": [
    {
     "name": "stdout",
     "output_type": "stream",
     "text": [
      "0.723 0.735"
     ]
    }
   ],
   "source": [
    "Path('answer4_2.txt').write_text(f'{forest.oob_score_:.3f} {score_2:.3f}')\n",
    "!cat answer4_2.txt"
   ]
  },
  {
   "cell_type": "markdown",
   "metadata": {},
   "source": [
    "Обучите логистическую регрессию (`LogisticRegression`) с параметром `C` по умолчанию и `random_state=17` (для воспроизводимости). Посмотрите на долю правильных ответов на кросс-валидации (используйте объект `skf`, созданный ранее) и на выборке `(X_valid, y_valid)`. Для распараллеливания задайте `n_jobs=-1`."
   ]
  },
  {
   "cell_type": "code",
   "execution_count": 15,
   "metadata": {},
   "outputs": [],
   "source": [
    "lr = LogisticRegression(random_state=17, solver='liblinear', multi_class='ovr')\n",
    "score_1 = cross_val_score(lr, x_train, y_train, cv=cv, n_jobs=-1).mean()\n",
    "score_2 = accuracy_score(y_test, lr.fit(x_train, y_train).predict(x_test))"
   ]
  },
  {
   "cell_type": "code",
   "execution_count": 16,
   "metadata": {},
   "outputs": [
    {
     "name": "stdout",
     "output_type": "stream",
     "text": [
      "0.761 0.782\n"
     ]
    }
   ],
   "source": [
    "print(f'{score_1:.3f} {score_2:.3f}')"
   ]
  },
  {
   "cell_type": "markdown",
   "metadata": {},
   "source": [
    "С помощью `LogisticRegressionCV` подберите параметр `C` для `LogisticRegression` сначала в широком диапазоне: 10 значений от `1e-4` до `1e2`, используйте `logspace` из NumPy. Укажите у `LogisticRegressionCV` параметры `multi_class='multinomial'` и `random_state=17`. Для кросс-валидации используйте объект `skf`, созданный ранее. Для распараллеливания задайте `n_jobs=-1`."
   ]
  },
  {
   "cell_type": "code",
   "execution_count": 17,
   "metadata": {},
   "outputs": [],
   "source": [
    "with catch_warnings():\n",
    "    simplefilter('ignore')\n",
    "    lrcv = LogisticRegressionCV(\n",
    "        Cs=numpy.logspace(-4, 2, 10),\n",
    "        multi_class='multinomial',\n",
    "        random_state=17,\n",
    "        cv=cv,\n",
    "    ).fit(x_train, y_train)"
   ]
  },
  {
   "cell_type": "markdown",
   "metadata": {},
   "source": [
    "Нарисуйте кривые валидации по параметру `C`."
   ]
  },
  {
   "cell_type": "code",
   "execution_count": 18,
   "metadata": {},
   "outputs": [],
   "source": [
    "# How?"
   ]
  },
  {
   "cell_type": "markdown",
   "metadata": {},
   "source": [
    "Средние значения доли правильных ответов на кросс-валидации по каждому из 10 параметров `C`."
   ]
  },
  {
   "cell_type": "code",
   "execution_count": 19,
   "metadata": {},
   "outputs": [],
   "source": [
    "# How?"
   ]
  },
  {
   "cell_type": "markdown",
   "metadata": {},
   "source": [
    "Выведите лучшее значение доли правильных ответов на кросс-валидации и соответствующее значение `C`."
   ]
  },
  {
   "cell_type": "code",
   "execution_count": 20,
   "metadata": {},
   "outputs": [
    {
     "data": {
      "text/plain": [
       "array([1., 1., 1., 1., 1., 1., 1., 1., 1., 1.])"
      ]
     },
     "execution_count": 20,
     "metadata": {},
     "output_type": "execute_result"
    }
   ],
   "source": [
    "lrcv.C_"
   ]
  },
  {
   "cell_type": "markdown",
   "metadata": {},
   "source": [
    "Нарисуйте график зависимости доли правильных ответов на кросс-валидации от `C`."
   ]
  },
  {
   "cell_type": "code",
   "execution_count": 21,
   "metadata": {},
   "outputs": [],
   "source": [
    "# How?"
   ]
  },
  {
   "cell_type": "markdown",
   "metadata": {},
   "source": [
    "Теперь то же самое, только значения параметра `C` перебирайте в диапазоне `np.linspace(0.1, 7, 20)`. Опять нарисуйте кривые валидации, определите максимальное значение доли правильных ответов на кросс-валидации."
   ]
  },
  {
   "cell_type": "code",
   "execution_count": 70,
   "metadata": {},
   "outputs": [],
   "source": [
    "with catch_warnings():\n",
    "    simplefilter('ignore')\n",
    "    lrcv2 = LogisticRegressionCV(\n",
    "        Cs=numpy.linspace(0.1, 7, 20),\n",
    "        multi_class='multinomial',\n",
    "        random_state=17,\n",
    "        cv=cv,\n",
    "    ).fit(x_train, y_train)"
   ]
  },
  {
   "cell_type": "code",
   "execution_count": 71,
   "metadata": {},
   "outputs": [
    {
     "data": {
      "text/plain": [
       "array([0.46315789, 0.46315789, 0.46315789, 0.46315789, 0.46315789,\n",
       "       0.46315789, 0.46315789, 0.46315789, 0.46315789, 0.46315789])"
      ]
     },
     "execution_count": 71,
     "metadata": {},
     "output_type": "execute_result"
    }
   ],
   "source": [
    "lrcv2.C_"
   ]
  },
  {
   "cell_type": "code",
   "execution_count": 91,
   "metadata": {},
   "outputs": [],
   "source": [
    "# Best C for question 4.7. That's what the author meant. See also the thread:\n",
    "# https://www.coursera.org/learn/data-analysis-project/discussions/weeks/4/threads/JAJbeSdfEeeuuQ7tmHEh3A/replies/znOrHgqSEeihiRLMG3w3WA\n",
    "scores, *_ = lrcv2.scores_.values()\n",
    "_, best_c_47 = numpy.unravel_index(scores.argmax(), scores.shape)\n",
    "C_47 = lrcv2.Cs_[best_c_47]"
   ]
  },
  {
   "cell_type": "markdown",
   "metadata": {},
   "source": [
    "**Вопрос 3**. Посчитайте доли правильных ответов для `logit_grid_searcher2` на кросс-валидации для лучшего значения параметра `C` и на отложенной выборке. Округлите каждое до 3 знаков после запятой и выведите через пробел."
   ]
  },
  {
   "cell_type": "code",
   "execution_count": 24,
   "metadata": {},
   "outputs": [],
   "source": [
    "lr.C = 0.46315789\n",
    "score_1 = cross_val_score(lr, x_train, y_train, cv=cv, n_jobs=-1).mean()\n",
    "score_2 = accuracy_score(y_test, lr.fit(x_train, y_train).predict(x_test))"
   ]
  },
  {
   "cell_type": "code",
   "execution_count": 25,
   "metadata": {},
   "outputs": [
    {
     "name": "stdout",
     "output_type": "stream",
     "text": [
      "0.756 0.773"
     ]
    }
   ],
   "source": [
    "Path('answer4_3.txt').write_text(f'{score_1:.3f} {score_2:.3f}')\n",
    "!cat answer4_3.txt"
   ]
  },
  {
   "cell_type": "markdown",
   "metadata": {},
   "source": [
    "Обучите линейный SVM (`LinearSVC`) с параметром `C=1` и `random_state=17` (для воспроизводимости). Посмотрите на долю правильных ответов на кросс-валидации (используйте объект `skf`, созданный ранее) и на выборке `(X_valid, y_valid)`."
   ]
  },
  {
   "cell_type": "code",
   "execution_count": 26,
   "metadata": {},
   "outputs": [
    {
     "name": "stdout",
     "output_type": "stream",
     "text": [
      "0.753 0.777\n"
     ]
    },
    {
     "name": "stderr",
     "output_type": "stream",
     "text": [
      "/Users/eigenein/GitHub/mipt-ya-ml-spec/venv/lib/python3.7/site-packages/sklearn/svm/base.py:931: ConvergenceWarning: Liblinear failed to converge, increase the number of iterations.\n",
      "  \"the number of iterations.\", ConvergenceWarning)\n"
     ]
    }
   ],
   "source": [
    "svc = LinearSVC(C=1.0, random_state=17)\n",
    "score_1 = cross_val_score(svc, x_train, y_train, cv=cv, n_jobs=-1).mean()\n",
    "score_2 = accuracy_score(y_test, svc.fit(x_train, y_train).predict(x_test))\n",
    "print(f'{score_1:.3f} {score_2:.3f}')"
   ]
  },
  {
   "cell_type": "markdown",
   "metadata": {},
   "source": [
    "С помощью `GridSearchCV` подберите параметр `C` для SVM сначала в широком диапазоне: 10 значений от 1e-4 до 1e4, используйте `linspace` из NumPy. Нарисуйте кривые валидации."
   ]
  },
  {
   "cell_type": "code",
   "execution_count": 27,
   "metadata": {},
   "outputs": [
    {
     "name": "stderr",
     "output_type": "stream",
     "text": [
      "[Parallel(n_jobs=-1)]: Using backend LokyBackend with 12 concurrent workers.\n"
     ]
    },
    {
     "name": "stdout",
     "output_type": "stream",
     "text": [
      "Fitting 3 folds for each of 10 candidates, totalling 30 fits\n"
     ]
    },
    {
     "name": "stderr",
     "output_type": "stream",
     "text": [
      "[Parallel(n_jobs=-1)]: Done   7 out of  30 | elapsed:    3.9s remaining:   12.9s\n",
      "[Parallel(n_jobs=-1)]: Done  23 out of  30 | elapsed:    7.8s remaining:    2.4s\n",
      "[Parallel(n_jobs=-1)]: Done  30 out of  30 | elapsed:    9.2s finished\n",
      "/Users/eigenein/GitHub/mipt-ya-ml-spec/venv/lib/python3.7/site-packages/sklearn/svm/base.py:931: ConvergenceWarning: Liblinear failed to converge, increase the number of iterations.\n",
      "  \"the number of iterations.\", ConvergenceWarning)\n"
     ]
    }
   ],
   "source": [
    "grid_search = GridSearchCV(\n",
    "    svc,\n",
    "    {'C': numpy.linspace(1e-4, 1e4, 10)},\n",
    "    cv=cv,\n",
    "    n_jobs=-1,\n",
    "    verbose=2,\n",
    "    return_train_score=True,\n",
    ").fit(x_train, y_train)"
   ]
  },
  {
   "cell_type": "markdown",
   "metadata": {},
   "source": [
    "Выведите лучшее значение доли правильных ответов на кросс-валидации и соответствующее значение `C`."
   ]
  },
  {
   "cell_type": "code",
   "execution_count": 28,
   "metadata": {},
   "outputs": [
    {
     "data": {
      "text/plain": [
       "{'C': 7777.777800000001}"
      ]
     },
     "execution_count": 28,
     "metadata": {},
     "output_type": "execute_result"
    }
   ],
   "source": [
    "grid_search.best_params_"
   ]
  },
  {
   "cell_type": "code",
   "execution_count": 29,
   "metadata": {},
   "outputs": [
    {
     "data": {
      "text/plain": [
       "0.6879699248120301"
      ]
     },
     "execution_count": 29,
     "metadata": {},
     "output_type": "execute_result"
    }
   ],
   "source": [
    "grid_search.best_score_"
   ]
  },
  {
   "cell_type": "markdown",
   "metadata": {},
   "source": [
    "Нарисуйте график зависимости доли правильных ответов на кросс-валидации от `C`."
   ]
  },
  {
   "cell_type": "code",
   "execution_count": 30,
   "metadata": {},
   "outputs": [
    {
     "data": {
      "image/png": "[encoded data removed]",
      "text/plain": [
       "<Figure size 1152x432 with 1 Axes>"
      ]
     },
     "metadata": {},
     "output_type": "display_data"
    }
   ],
   "source": [
    "plot_validation_curves(grid_search.param_grid['C'], grid_search.cv_results_)"
   ]
  },
  {
   "cell_type": "markdown",
   "metadata": {},
   "source": [
    "Но мы помним, что с параметром регуляризации по умолчанию (`С=1`) на кросс-валидации доля правильных ответов выше. Это тот случай (не редкий), когда можно ошибиться и перебирать параметры не в том диапазоне (причина в том, что мы взяли равномерную сетку на большом интервале и упустили действительно хороший интервал значений `C`). Здесь намного осмысленней подбирать `C` в районе 1, к тому же, так модель быстрее обучается, чем при больших `C`.\n",
    "\n",
    "С помощью `GridSearchCV` подберите параметр `C` для SVM в диапазоне `(1e-3, 1)`, 30 значений, используйте `linspace` из NumPy. Нарисуйте кривые валидации."
   ]
  },
  {
   "cell_type": "code",
   "execution_count": 31,
   "metadata": {},
   "outputs": [
    {
     "name": "stdout",
     "output_type": "stream",
     "text": [
      "Fitting 3 folds for each of 30 candidates, totalling 90 fits\n"
     ]
    },
    {
     "name": "stderr",
     "output_type": "stream",
     "text": [
      "[Parallel(n_jobs=-1)]: Using backend LokyBackend with 12 concurrent workers.\n",
      "[Parallel(n_jobs=-1)]: Done  21 out of  90 | elapsed:    2.4s remaining:    7.9s\n",
      "[Parallel(n_jobs=-1)]: Done  90 out of  90 | elapsed:   15.1s finished\n"
     ]
    }
   ],
   "source": [
    "grid_search = GridSearchCV(\n",
    "    svc,\n",
    "    {'C': numpy.linspace(1e-3, 1, 30)},\n",
    "    cv=cv,\n",
    "    n_jobs=-1,\n",
    "    verbose=2,\n",
    "    return_train_score=True,\n",
    ").fit(x_train, y_train)"
   ]
  },
  {
   "cell_type": "code",
   "execution_count": 32,
   "metadata": {},
   "outputs": [
    {
     "data": {
      "text/plain": [
       "(0.764681975208291, {'C': 0.10434482758620689})"
      ]
     },
     "execution_count": 32,
     "metadata": {},
     "output_type": "execute_result"
    }
   ],
   "source": [
    "grid_search.best_score_, grid_search.best_params_"
   ]
  },
  {
   "cell_type": "code",
   "execution_count": 33,
   "metadata": {},
   "outputs": [
    {
     "data": {
      "image/png": "[encoded data removed]",
      "text/plain": [
       "<Figure size 1152x432 with 1 Axes>"
      ]
     },
     "metadata": {},
     "output_type": "display_data"
    }
   ],
   "source": [
    "plot_validation_curves(grid_search.param_grid['C'], grid_search.cv_results_)"
   ]
  },
  {
   "cell_type": "markdown",
   "metadata": {},
   "source": [
    "**Вопрос 4.** Посчитайте доли правильных ответов для `svm_grid_searcher2` на кросс-валидации для лучшего значения параметра `C` и на отложенной выборке. Округлите каждое до 3 знаков после запятой и выведите через пробел."
   ]
  },
  {
   "cell_type": "code",
   "execution_count": 34,
   "metadata": {},
   "outputs": [],
   "source": [
    "score_2 = accuracy_score(y_test, grid_search.best_estimator_.predict(x_test))"
   ]
  },
  {
   "cell_type": "code",
   "execution_count": 35,
   "metadata": {},
   "outputs": [
    {
     "name": "stdout",
     "output_type": "stream",
     "text": [
      "0.765 0.781"
     ]
    }
   ],
   "source": [
    "Path('answer4_4.txt').write_text(f'{grid_search.best_score_:.3f} {score_2:.3f}')\n",
    "!cat answer4_4.txt"
   ]
  },
  {
   "cell_type": "markdown",
   "metadata": {},
   "source": [
    "## Часть 2. Выбор параметров – длины сессии и ширины окна"
   ]
  },
  {
   "cell_type": "markdown",
   "metadata": {},
   "source": [
    "Возьмем `LinearSVC`, показавший лучшее качество на кросс-валидации в 1 части, и проверим его работу еще на 8 выборках для 10 пользователей (с разными сочетаниями параметров `session_length` и `window_size`). Поскольку тут уже вычислений побольше, мы не будем каждый раз заново подбирать параметр регуляризации `C`.\n",
    "\n",
    "Определите функцию `model_assessment`, ее документация описана ниже. Обратите внимание на все детали. Например, на то, что разбиение выборки с `train_test_split` должно быть стратифицированным. Не теряйте нигде `random_state`."
   ]
  },
  {
   "cell_type": "code",
   "execution_count": 36,
   "metadata": {},
   "outputs": [
    {
     "name": "stdout",
     "output_type": "stream",
     "text": [
      "LinearSVC(C=0.10434482758620689, class_weight=None, dual=True,\n",
      "     fit_intercept=True, intercept_scaling=1, loss='squared_hinge',\n",
      "     max_iter=1000, multi_class='ovr', penalty='l2', random_state=17,\n",
      "     tol=0.0001, verbose=0)\n"
     ]
    }
   ],
   "source": [
    "svc = grid_search.best_estimator_\n",
    "print(svc)"
   ]
  },
  {
   "cell_type": "code",
   "execution_count": 37,
   "metadata": {},
   "outputs": [],
   "source": [
    "def assess_model(estimator, path: Path, session_length: int, window_size: int, random_state=17, test_size=0.3):\n",
    "    x, y = prepare_train_set(path, session_length=session_length, window_size=window_size)\n",
    "    x_train, x_test, y_train, y_test = train_test_split(\n",
    "        x, y, test_size=test_size, random_state=random_state, stratify=y)\n",
    "    score_1 = cross_val_score(estimator, x_train, y_train, cv=cv, n_jobs=-1).mean()\n",
    "    estimator.fit(x_train, y_train)\n",
    "    score_2 = accuracy_score(y_test, estimator.predict(x_test))\n",
    "    return score_1, score_2"
   ]
  },
  {
   "cell_type": "markdown",
   "metadata": {},
   "source": [
    "Убедитесь, что функция работает."
   ]
  },
  {
   "cell_type": "code",
   "execution_count": 38,
   "metadata": {},
   "outputs": [
    {
     "data": {
      "application/vnd.jupyter.widget-view+json": {
       "model_id": "ee767bc830dd41458c51cb03ad9f2db4",
       "version_major": 2,
       "version_minor": 0
      },
      "text/plain": [
       "HBox(children=(IntProgress(value=0, description='CSVs', max=10, style=ProgressStyle(description_width='initial…"
      ]
     },
     "metadata": {},
     "output_type": "display_data"
    },
    {
     "name": "stdout",
     "output_type": "stream",
     "text": [
      "\n"
     ]
    },
    {
     "data": {
      "text/plain": [
       "(0.7646853244550981, 0.7807537331121118)"
      ]
     },
     "execution_count": 38,
     "metadata": {},
     "output_type": "execute_result"
    }
   ],
   "source": [
    "assess_model(svc, Path('10users'), session_length=10, window_size=10)"
   ]
  },
  {
   "cell_type": "markdown",
   "metadata": {},
   "source": [
    "Примените функцию `model_assessment` для лучшего алгоритма из предыдущей части (а именно, `svm_grid_searcher2.best_estimator_`) и 9 выборок вида с разными сочетаниями параметров `session_length` и `window_size` для 10 пользователей. Выведите в цикле параметры `session_length` и `window_size`, а также результат вывода функции `model_assessment`. Удобно сделать так, чтоб `model_assessment` возвращала 3-им элементом время, за которое она выполнилась. На моем ноуте этот участок кода выполнился за 20 секунд. Но со 150 пользователями каждая итерация занимает уже несколько минут."
   ]
  },
  {
   "cell_type": "code",
   "execution_count": 39,
   "metadata": {},
   "outputs": [
    {
     "data": {
      "application/vnd.jupyter.widget-view+json": {
       "model_id": "d4bee3f280c74f5392484e4a1ff650ad",
       "version_major": 2,
       "version_minor": 0
      },
      "text/plain": [
       "HBox(children=(IntProgress(value=1, bar_style='info', description='Assessment', max=1, style=ProgressStyle(des…"
      ]
     },
     "metadata": {},
     "output_type": "display_data"
    },
    {
     "data": {
      "application/vnd.jupyter.widget-view+json": {
       "model_id": "e5725fb381f0477285ce431af92ffc00",
       "version_major": 2,
       "version_minor": 0
      },
      "text/plain": [
       "HBox(children=(IntProgress(value=0, description='CSVs', max=10, style=ProgressStyle(description_width='initial…"
      ]
     },
     "metadata": {},
     "output_type": "display_data"
    },
    {
     "name": "stdout",
     "output_type": "stream",
     "text": [
      "Session: 15. Window: 10. Score 1: 0.824. Score 2: 0.840.\n",
      "Session: 10. Window: 10. Score 1: 0.765. Score 2: 0.781.\n"
     ]
    },
    {
     "data": {
      "application/vnd.jupyter.widget-view+json": {
       "model_id": "0e12d360c1ab40f29160c6fe565d7c1d",
       "version_major": 2,
       "version_minor": 0
      },
      "text/plain": [
       "HBox(children=(IntProgress(value=0, description='CSVs', max=10, style=ProgressStyle(description_width='initial…"
      ]
     },
     "metadata": {},
     "output_type": "display_data"
    },
    {
     "name": "stdout",
     "output_type": "stream",
     "text": [
      "Session: 15. Window: 7. Score 1: 0.848. Score 2: 0.854.\n"
     ]
    },
    {
     "data": {
      "application/vnd.jupyter.widget-view+json": {
       "model_id": "950c6a66a7964b54a17caf7641696fa8",
       "version_major": 2,
       "version_minor": 0
      },
      "text/plain": [
       "HBox(children=(IntProgress(value=0, description='CSVs', max=10, style=ProgressStyle(description_width='initial…"
      ]
     },
     "metadata": {},
     "output_type": "display_data"
    },
    {
     "name": "stdout",
     "output_type": "stream",
     "text": [
      "Session: 10. Window: 7. Score 1: 0.797. Score 2: 0.807.\n"
     ]
    },
    {
     "data": {
      "application/vnd.jupyter.widget-view+json": {
       "model_id": "536fce5226aa4f379ab7fa5574f8f28f",
       "version_major": 2,
       "version_minor": 0
      },
      "text/plain": [
       "HBox(children=(IntProgress(value=0, description='CSVs', max=10, style=ProgressStyle(description_width='initial…"
      ]
     },
     "metadata": {},
     "output_type": "display_data"
    },
    {
     "name": "stdout",
     "output_type": "stream",
     "text": [
      "Session: 7. Window: 7. Score 1: 0.753. Score 2: 0.762.\n"
     ]
    },
    {
     "data": {
      "application/vnd.jupyter.widget-view+json": {
       "model_id": "fadb7fe458db4681ba57f1b53be0345a",
       "version_major": 2,
       "version_minor": 0
      },
      "text/plain": [
       "HBox(children=(IntProgress(value=0, description='CSVs', max=10, style=ProgressStyle(description_width='initial…"
      ]
     },
     "metadata": {},
     "output_type": "display_data"
    },
    {
     "name": "stdout",
     "output_type": "stream",
     "text": [
      "Session: 15. Window: 5. Score 1: 0.868. Score 2: 0.875.\n"
     ]
    },
    {
     "data": {
      "application/vnd.jupyter.widget-view+json": {
       "model_id": "a996944be7ee4db29c54efa88d76bd8f",
       "version_major": 2,
       "version_minor": 0
      },
      "text/plain": [
       "HBox(children=(IntProgress(value=0, description='CSVs', max=10, style=ProgressStyle(description_width='initial…"
      ]
     },
     "metadata": {},
     "output_type": "display_data"
    },
    {
     "name": "stdout",
     "output_type": "stream",
     "text": [
      "Session: 10. Window: 5. Score 1: 0.816. Score 2: 0.825.\n"
     ]
    },
    {
     "data": {
      "application/vnd.jupyter.widget-view+json": {
       "model_id": "74fd5f43ba014467a79f4d0e4fb7bedb",
       "version_major": 2,
       "version_minor": 0
      },
      "text/plain": [
       "HBox(children=(IntProgress(value=0, description='CSVs', max=10, style=ProgressStyle(description_width='initial…"
      ]
     },
     "metadata": {},
     "output_type": "display_data"
    },
    {
     "name": "stdout",
     "output_type": "stream",
     "text": [
      "Session: 7. Window: 5. Score 1: 0.774. Score 2: 0.785.\n"
     ]
    },
    {
     "data": {
      "application/vnd.jupyter.widget-view+json": {
       "model_id": "0e052e64cc59473ca7862f63a215c213",
       "version_major": 2,
       "version_minor": 0
      },
      "text/plain": [
       "HBox(children=(IntProgress(value=0, description='CSVs', max=10, style=ProgressStyle(description_width='initial…"
      ]
     },
     "metadata": {},
     "output_type": "display_data"
    },
    {
     "name": "stdout",
     "output_type": "stream",
     "text": [
      "Session: 5. Window: 5. Score 1: 0.725. Score 2: 0.736.\n",
      "\n"
     ]
    }
   ],
   "source": [
    "for window_size, session_length in tqdm_notebook(product([10, 7, 5], [15, 10, 7, 5]), desc='Assessment'):\n",
    "    if window_size <= session_length:\n",
    "        score_1, score_2 = assess_model(\n",
    "            svc, Path('10users'), session_length=session_length, window_size=window_size)\n",
    "        print(f'Session: {session_length}. Window: {window_size}. Score 1: {score_1:.3f}. Score 2: {score_2:.3f}.')"
   ]
  },
  {
   "cell_type": "markdown",
   "metadata": {},
   "source": [
    "**Вопрос 5.** Посчитайте доли правильных ответов для `LinearSVC` с настроенным параметром `C` и выборки `X_sparse_10users_s15_w5`. Укажите доли правильных ответов на кросс-валидации и на отложенной выборке. Округлите каждое до 3 знаков после запятой и выведите через пробел."
   ]
  },
  {
   "cell_type": "code",
   "execution_count": 40,
   "metadata": {},
   "outputs": [],
   "source": [
    "Path('answer4_5.txt').write_text('0.868 0.875');"
   ]
  },
  {
   "cell_type": "markdown",
   "metadata": {},
   "source": [
    "Прокомментируйте полученные результаты. Сравните для 150 пользователей доли правильных ответов на кросс-валидации и оставленной выборке для сочетаний параметров `(session_length, window_size)`: `(5,5)`, `(7,7)` и `(10,10)`. На среднем ноуте это может занять до часа – запаситесь терпением, это Data Science :)\n",
    "\n",
    "Сделайте вывод о том, как качество классификации зависит от длины сессии и ширины окна."
   ]
  },
  {
   "cell_type": "code",
   "execution_count": 41,
   "metadata": {},
   "outputs": [
    {
     "data": {
      "application/vnd.jupyter.widget-view+json": {
       "model_id": "4369f4a0e7b64070b1f06d8966f880df",
       "version_major": 2,
       "version_minor": 0
      },
      "text/plain": [
       "HBox(children=(IntProgress(value=0, description='Assessment', max=3, style=ProgressStyle(description_width='in…"
      ]
     },
     "metadata": {},
     "output_type": "display_data"
    },
    {
     "data": {
      "application/vnd.jupyter.widget-view+json": {
       "model_id": "d78d03067c684c8ab5f76def8546d3c2",
       "version_major": 2,
       "version_minor": 0
      },
      "text/plain": [
       "HBox(children=(IntProgress(value=0, description='CSVs', max=150, style=ProgressStyle(description_width='initia…"
      ]
     },
     "metadata": {},
     "output_type": "display_data"
    },
    {
     "name": "stdout",
     "output_type": "stream",
     "text": [
      "Session: 5. Window: 5. Score 1: 0.409. Score 2: 0.422.\n"
     ]
    },
    {
     "data": {
      "application/vnd.jupyter.widget-view+json": {
       "model_id": "aeacad81f8304575847377f84aaad279",
       "version_major": 2,
       "version_minor": 0
      },
      "text/plain": [
       "HBox(children=(IntProgress(value=0, description='CSVs', max=150, style=ProgressStyle(description_width='initia…"
      ]
     },
     "metadata": {},
     "output_type": "display_data"
    },
    {
     "name": "stdout",
     "output_type": "stream",
     "text": [
      "Session: 7. Window: 7. Score 1: 0.436. Score 2: 0.453.\n"
     ]
    },
    {
     "data": {
      "application/vnd.jupyter.widget-view+json": {
       "model_id": "ae3131af1aa248ecbf5125db7f4f026f",
       "version_major": 2,
       "version_minor": 0
      },
      "text/plain": [
       "HBox(children=(IntProgress(value=0, description='CSVs', max=150, style=ProgressStyle(description_width='initia…"
      ]
     },
     "metadata": {},
     "output_type": "display_data"
    },
    {
     "name": "stdout",
     "output_type": "stream",
     "text": [
      "Session: 10. Window: 10. Score 1: 0.461. Score 2: 0.484.\n",
      "\n"
     ]
    }
   ],
   "source": [
    "for window_size, session_length in tqdm_notebook([(5, 5), (7, 7), (10, 10)], desc='Assessment'):\n",
    "    if window_size <= session_length:\n",
    "        score_1, score_2 = assess_model(\n",
    "            svc, Path('150users'), session_length=session_length, window_size=window_size)\n",
    "        print(f'Session: {session_length}. Window: {window_size}. Score 1: {score_1:.3f}. Score 2: {score_2:.3f}.')"
   ]
  },
  {
   "cell_type": "code",
   "execution_count": 42,
   "metadata": {},
   "outputs": [],
   "source": [
    "Path('answer4_6.txt').write_text('0.461 0.484');"
   ]
  },
  {
   "cell_type": "markdown",
   "metadata": {},
   "source": [
    "## Часть 3. Идентификация конкретного пользователя и кривые обучения"
   ]
  },
  {
   "cell_type": "markdown",
   "metadata": {},
   "source": [
    "Поскольку может разочаровать, что многоклассовая доля правильных ответов на выборке из 150 пользовалей невелика, порадуемся тому, что конкретного пользователя можно идентифицировать достаточно хорошо.\n",
    "\n",
    "Загрузим сериализованные ранее объекты `X_sparse_150users` и `y_150users`, соответствующие обучающей выборке для 150 пользователей с параметрами `(session_length, window_size)` = `(10,10)`. Так же точно разобьем их на 70% и 30%."
   ]
  },
  {
   "cell_type": "code",
   "execution_count": 96,
   "metadata": {},
   "outputs": [],
   "source": [
    "x_150users, y_150users = prepare_train_set(Path('150users'))\n",
    "x_train, x_test, y_train, y_test = train_test_split(\n",
    "    x_150users, y_150users, test_size=0.3, random_state=17, stratify=y_150users)"
   ]
  },
  {
   "cell_type": "markdown",
   "metadata": {},
   "source": [
    "Обучите `LogisticRegressionCV` для одного значения параметра `C` (лучшего на кросс-валидации в 1 части, используйте точное значение, не на глаз). Теперь будем решать 150 задач \"Один-против-Всех\", поэтому укажите аргумент `multi_class='ovr'`. Как всегда, где возможно, указывайте `n_jobs=-1` и `random_state=17`."
   ]
  },
  {
   "cell_type": "code",
   "execution_count": 97,
   "metadata": {},
   "outputs": [
    {
     "name": "stdout",
     "output_type": "stream",
     "text": [
      "CPU times: user 22min 20s, sys: 10min 25s, total: 32min 46s\n",
      "Wall time: 5min 6s\n"
     ]
    }
   ],
   "source": [
    "%%time\n",
    "lr = LogisticRegressionCV(random_state=17, multi_class='ovr', Cs=[C_47], n_jobs=-1, cv=cv)\n",
    "with catch_warnings():\n",
    "    simplefilter('ignore')\n",
    "    lr.fit(x_train, y_train)"
   ]
  },
  {
   "cell_type": "markdown",
   "metadata": {},
   "source": [
    "Посмотрите на средние доли правильных ответов на кросс-валидации в задаче идентификации каждого пользователя по отдельности."
   ]
  },
  {
   "cell_type": "code",
   "execution_count": 98,
   "metadata": {},
   "outputs": [
    {
     "name": "stdout",
     "output_type": "stream",
     "text": [
      "User 6, CV score: 0.9960795612888451\n",
      "User 13, CV score: 0.996392603416394\n",
      "User 15, CV score: 0.99526648227745\n",
      "User 16, CV score: 0.9919507613560473\n",
      "User 28, CV score: 0.9901787659762019\n",
      "User 31, CV score: 0.9942968989054074\n",
      "User 33, CV score: 0.9936505040113687\n",
      "User 39, CV score: 0.9858620830655959\n",
      "User 46, CV score: 0.997987857444965\n",
      "User 49, CV score: 0.9952773284622092\n",
      "User 50, CV score: 0.9944638280683459\n",
      "User 53, CV score: 0.9935982902101794\n",
      "User 65, CV score: 0.9968513700582928\n",
      "User 66, CV score: 0.994765980924795\n",
      "User 82, CV score: 0.9964030122764157\n",
      "User 85, CV score: 0.9962987207688639\n",
      "User 89, CV score: 0.9905225842610896\n",
      "User 92, CV score: 0.9942033320079174\n",
      "User 100, CV score: 0.9945575257465724\n",
      "User 102, CV score: 0.9913986089935877\n",
      "User 103, CV score: 0.9805449611891582\n",
      "User 105, CV score: 0.996934881144005\n",
      "User 106, CV score: 0.9946719103641056\n",
      "User 118, CV score: 0.990929076551474\n",
      "User 119, CV score: 0.9966116229096368\n",
      "User 120, CV score: 0.9943177074194115\n",
      "User 126, CV score: 0.9951209040120593\n",
      "User 127, CV score: 0.9916482666531555\n",
      "User 128, CV score: 0.9848404849077502\n",
      "User 138, CV score: 0.997007720386082\n",
      "User 158, CV score: 0.9969974146886792\n",
      "User 160, CV score: 0.9968720705696349\n",
      "User 165, CV score: 0.9973412654317274\n",
      "User 172, CV score: 0.9966844989758709\n",
      "User 177, CV score: 0.9969241710540722\n",
      "User 203, CV score: 0.9976019765493861\n",
      "User 207, CV score: 0.9875827746957441\n",
      "User 223, CV score: 0.996403036002584\n",
      "User 233, CV score: 0.996371635081395\n",
      "User 235, CV score: 0.9965490235005476\n",
      "User 236, CV score: 0.990189063415659\n",
      "User 237, CV score: 0.989250607353012\n",
      "User 238, CV score: 0.9961110886247745\n",
      "User 240, CV score: 0.9957045217379825\n",
      "User 241, CV score: 0.9958503862391083\n",
      "User 242, CV score: 0.9951932676831011\n",
      "User 245, CV score: 0.996090138701854\n",
      "User 246, CV score: 0.9969555913354332\n",
      "User 249, CV score: 0.9951206361884025\n",
      "User 252, CV score: 0.9964133034536893\n",
      "User 254, CV score: 0.9918676769668929\n",
      "User 256, CV score: 0.9959444146615509\n",
      "User 258, CV score: 0.9958608139852553\n",
      "User 259, CV score: 0.9947767287869783\n",
      "User 260, CV score: 0.9974561963247538\n",
      "User 261, CV score: 0.9898973640272873\n",
      "User 263, CV score: 0.99261810038487\n",
      "User 264, CV score: 0.9964446762827136\n",
      "User 269, CV score: 0.986852743249346\n",
      "User 270, CV score: 0.9893653300246132\n",
      "User 273, CV score: 0.9943281259595192\n",
      "User 287, CV score: 0.9901470928653602\n",
      "User 294, CV score: 0.995714849739413\n",
      "User 298, CV score: 0.9911688372721651\n",
      "User 301, CV score: 0.9971222880767314\n",
      "User 308, CV score: 0.9956836560915557\n",
      "User 315, CV score: 0.9974871589731115\n",
      "User 318, CV score: 0.9958189853179195\n",
      "User 327, CV score: 0.996423886654835\n",
      "User 332, CV score: 0.9966636245974515\n",
      "User 333, CV score: 0.9962572223716974\n",
      "User 339, CV score: 0.99707001856526\n",
      "User 340, CV score: 0.9965698416946377\n",
      "User 342, CV score: 0.9920865037069335\n",
      "User 344, CV score: 0.9966427792592905\n",
      "User 351, CV score: 0.992221998068382\n",
      "User 356, CV score: 0.9977166207326303\n",
      "User 361, CV score: 0.9963402438402923\n",
      "User 363, CV score: 0.9964031628913711\n",
      "User 411, CV score: 0.9912421608172695\n",
      "User 417, CV score: 0.9967366706388129\n",
      "User 425, CV score: 0.9941614287441741\n",
      "User 430, CV score: 0.9962984292190389\n",
      "User 435, CV score: 0.9968930577907592\n",
      "User 436, CV score: 0.9951517964300057\n",
      "User 440, CV score: 0.9969035751274896\n",
      "User 444, CV score: 0.9979148268718262\n",
      "User 475, CV score: 0.9890841024168227\n",
      "User 476, CV score: 0.9969660616938737\n",
      "User 486, CV score: 0.9953812194691802\n",
      "User 515, CV score: 0.9940258302720132\n",
      "User 533, CV score: 0.9937860308309777\n",
      "User 561, CV score: 0.9842876273968962\n",
      "User 563, CV score: 0.9967261392560003\n",
      "User 564, CV score: 0.9956629090759707\n",
      "User 568, CV score: 0.9916176580011355\n",
      "User 569, CV score: 0.9894490769498683\n",
      "User 570, CV score: 0.9983424565242434\n",
      "User 573, CV score: 0.9904912303181904\n",
      "User 575, CV score: 0.9905228709708714\n",
      "User 576, CV score: 0.9940570674802579\n",
      "User 580, CV score: 0.9866127316949361\n",
      "User 583, CV score: 0.9808677287587405\n",
      "User 584, CV score: 0.9811388521543233\n",
      "User 600, CV score: 0.9916278029294499\n",
      "User 603, CV score: 0.9956314427644134\n",
      "User 605, CV score: 0.9975810561407705\n",
      "User 640, CV score: 0.9972265326059934\n",
      "User 647, CV score: 0.9977894691807464\n",
      "User 653, CV score: 0.997320381847269\n",
      "User 664, CV score: 0.9951414955726459\n",
      "User 665, CV score: 0.9969765267382246\n",
      "User 677, CV score: 0.996642571985959\n",
      "User 692, CV score: 0.9970284252634203\n",
      "User 697, CV score: 0.9958083464064916\n",
      "User 705, CV score: 0.9965803541913251\n",
      "User 722, CV score: 0.9947452101830416\n",
      "User 740, CV score: 0.9967262520987052\n",
      "User 741, CV score: 0.9967781598299403\n",
      "User 756, CV score: 0.9957354979583753\n",
      "User 780, CV score: 0.9964656208915441\n",
      "User 784, CV score: 0.9965281583281677\n",
      "User 785, CV score: 0.9968617842324043\n",
      "User 797, CV score: 0.9956525244161641\n",
      "User 812, CV score: 0.9947141390579753\n",
      "User 844, CV score: 0.9969451824754115\n",
      "User 859, CV score: 0.9983526774711057\n",
      "User 868, CV score: 0.99645529194202\n",
      "User 875, CV score: 0.9959132350597759\n",
      "User 932, CV score: 0.990637350493078\n",
      "User 996, CV score: 0.9933062391957042\n",
      "User 1014, CV score: 0.9972994135122701\n",
      "User 1040, CV score: 0.9969970427543098\n",
      "User 1054, CV score: 0.996569841220591\n",
      "User 1248, CV score: 0.9977585753406597\n",
      "User 1267, CV score: 0.9973933194119219\n",
      "User 1299, CV score: 0.9969138943969277\n",
      "User 1371, CV score: 0.9934103989744255\n",
      "User 1797, CV score: 0.9950372151673207\n",
      "User 1798, CV score: 0.9965077081764974\n",
      "User 1993, CV score: 0.9968202102907365\n",
      "User 2118, CV score: 0.9977794071067853\n",
      "User 2174, CV score: 0.9958190003120954\n",
      "User 2191, CV score: 0.995276872725393\n",
      "User 2250, CV score: 0.9973205227821386\n",
      "User 2355, CV score: 0.9957875839226838\n",
      "User 2408, CV score: 0.9935466798169061\n",
      "User 2493, CV score: 0.9967157260299825\n",
      "User 2625, CV score: 0.996059044798713\n",
      "User 2902, CV score: 0.9970494216905835\n"
     ]
    }
   ],
   "source": [
    "for user_id, scores in lr.scores_.items():\n",
    "    print(f'User {user_id}, CV score: {scores.mean()}')"
   ]
  },
  {
   "cell_type": "markdown",
   "metadata": {},
   "source": [
    "Результаты кажутся впечатляющими, но возможно, мы забываем про дисбаланс классов, и высокую долю правильных ответов можно получить константным прогнозом. Посчитайте для каждого пользователя разницу между долей правильных ответов на кросс-валидации (только что посчитанную с помощью `LogisticRegressionCV`) и долей меток в `y_train_150`, отличных от ID этого пользователя (именно такую долю правильных ответов можно получить, если классификатор всегда \"говорит\", что это не пользователь с номером i в задаче классификации i-vs-All)."
   ]
  },
  {
   "cell_type": "code",
   "execution_count": 99,
   "metadata": {},
   "outputs": [],
   "source": [
    "n_class_samples = numpy.bincount(y_train.astype('int'))\n",
    "n_better_than_default = (numpy.array([\n",
    "    scores.mean() - (1.0 - n_class_samples[user_id] / len(y_train))\n",
    "    for user_id, scores in lr.scores_.items()\n",
    "]) > 0).sum()\n",
    "answer = n_better_than_default / len(lr.scores_)"
   ]
  },
  {
   "cell_type": "markdown",
   "metadata": {},
   "source": [
    "**Вопрос 7.** Посчитайте долю пользователей, для которых логистическая регрессия на кросс-валидации дает прогноз лучше константного. Округлите до 3 знаков после запятой."
   ]
  },
  {
   "cell_type": "code",
   "execution_count": 100,
   "metadata": {},
   "outputs": [
    {
     "name": "stdout",
     "output_type": "stream",
     "text": [
      "0.820"
     ]
    }
   ],
   "source": [
    "Path('answer4_7.txt').write_text(f'{answer:.3f}');\n",
    "%cat answer4_7.txt"
   ]
  }
 ],
 "metadata": {
  "kernelspec": {
   "display_name": "Python 3",
   "language": "python",
   "name": "python3"
  },
  "language_info": {
   "codemirror_mode": {
    "name": "ipython",
    "version": 3
   },
   "file_extension": ".py",
   "mimetype": "text/x-python",
   "name": "python",
   "nbconvert_exporter": "python",
   "pygments_lexer": "ipython3",
   "version": "3.7.2"
  }
 },
 "nbformat": 4,
 "nbformat_minor": 2
}
