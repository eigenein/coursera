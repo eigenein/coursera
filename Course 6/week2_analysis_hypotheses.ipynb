{
 "cells": [
  {
   "cell_type": "code",
   "execution_count": 1,
   "metadata": {},
   "outputs": [
    {
     "name": "stdout",
     "output_type": "stream",
     "text": [
      "CPython 3.7.1\n",
      "IPython 7.0.1\n",
      "\n",
      "numpy 1.15.3\n",
      "scipy 1.1.0\n",
      "pandas 0.23.4\n",
      "matplotlib 3.0.1\n",
      "statsmodels 0.9.0\n",
      "sklearn 0.20.0\n",
      "\n",
      "compiler   : Clang 6.0 (clang-600.0.57)\n",
      "system     : Darwin\n",
      "release    : 18.2.0\n",
      "machine    : x86_64\n",
      "processor  : i386\n",
      "CPU cores  : 8\n",
      "interpreter: 64bit\n",
      "Git hash   : 8f9dc62c30f1434fac9b6dba693b2fe05427d706\n"
     ]
    }
   ],
   "source": [
    "%reload_ext watermark\n",
    "%watermark -v -m -p numpy,scipy,pandas,matplotlib,statsmodels,sklearn -g"
   ]
  },
  {
   "cell_type": "code",
   "execution_count": 59,
   "metadata": {},
   "outputs": [],
   "source": [
    "import csv\n",
    "import pickle\n",
    "import string\n",
    "from collections import Counter, defaultdict\n",
    "from functools import partial\n",
    "from itertools import chain, count, product, zip_longest\n",
    "from pathlib import Path\n",
    "from typing import Any, Dict, List, Tuple, TypeVar, Iterable\n",
    "from tqdm import tqdm_notebook\n",
    "\n",
    "import numpy\n",
    "import pandas\n",
    "from more_itertools import chunked, seekable, sliced, windowed, take\n",
    "from pandas import DataFrame\n",
    "from scipy import stats\n",
    "from scipy.sparse import csr_matrix\n",
    "from statsmodels.stats.proportion import proportion_confint\n",
    "\n",
    "%matplotlib inline"
   ]
  },
  {
   "cell_type": "markdown",
   "metadata": {},
   "source": [
    "## Часть 1. Подготовка нескольких обучающих выборок для сравнения"
   ]
  },
  {
   "cell_type": "code",
   "execution_count": 3,
   "metadata": {},
   "outputs": [],
   "source": [
    "T = TypeVar('T')\n",
    "\n",
    "def custom_windowed(iterable: Iterable[T], n: int, step: int) -> Iterable[List[T]]:\n",
    "    iterable = list(iterable)\n",
    "    for offset in range(0, len(iterable), step):\n",
    "        yield iterable[offset:offset + n]"
   ]
  },
  {
   "cell_type": "code",
   "execution_count": 4,
   "metadata": {},
   "outputs": [],
   "source": [
    "def prepare_sparse_train_set_window(\n",
    "    path: Path, \n",
    "    session_length: int = 10,\n",
    "    window_size: int = 10,\n",
    "    field_names: List[str] = None,\n",
    "    delimiter: str = ',',\n",
    ") -> Tuple[csr_matrix, numpy.ndarray]:\n",
    "    user_sessions: List[Tuple[int, Counter]] = [\n",
    "        (int(csv_path.stem[-4:]), Counter(session))\n",
    "        for csv_path in sorted(path.glob('*.csv'))\n",
    "        for session in custom_windowed((\n",
    "            row['site']\n",
    "            for row in csv.DictReader(csv_path.open('rt'), fieldnames=field_names, delimiter=delimiter)\n",
    "        ), n=session_length, step=window_size)\n",
    "    ]\n",
    "    \n",
    "    # Assign an incremental ID to each unique site.\n",
    "    site_ids: Dict[str, int] = dict(zip(set(chain.from_iterable(session for _, session in user_sessions)), count()))\n",
    "        \n",
    "    x = csr_matrix((\n",
    "        [value for _, session in user_sessions for value in session.values()],  # values are visit counts\n",
    "        (\n",
    "            [\n",
    "                i\n",
    "                for i, (_, session) in enumerate(user_sessions)\n",
    "                for value in session.values()\n",
    "            ],  # row indices are session numbers\n",
    "            [\n",
    "                site_ids[site]\n",
    "                for _, session in user_sessions\n",
    "                for site in session\n",
    "            ],  # column indices are site IDs\n",
    "        ),\n",
    "    ))\n",
    "    y = numpy.array([user_id for user_id, _ in user_sessions])\n",
    "    \n",
    "    return x, y"
   ]
  },
  {
   "cell_type": "markdown",
   "metadata": {},
   "source": [
    "Примените полученную функцию с параметрами `session_length=5` и `window_size=3` к игрушечному примеру. Убедитесь, что все работает как надо."
   ]
  },
  {
   "cell_type": "code",
   "execution_count": 5,
   "metadata": {},
   "outputs": [],
   "source": [
    "x_toy_s5_w3, y_s5_w3 = prepare_sparse_train_set_window(Path('3users'), session_length=5, window_size=3)"
   ]
  },
  {
   "cell_type": "code",
   "execution_count": 6,
   "metadata": {},
   "outputs": [
    {
     "data": {
      "text/plain": [
       "matrix([[3, 0, 0, 0, 0, 0, 0, 1, 0, 1, 0],\n",
       "        [1, 0, 0, 1, 0, 1, 0, 0, 0, 1, 1],\n",
       "        [0, 0, 0, 1, 1, 1, 0, 1, 1, 0, 0],\n",
       "        [0, 0, 0, 0, 0, 0, 0, 1, 1, 0, 3],\n",
       "        [0, 0, 0, 0, 0, 0, 0, 0, 0, 0, 2],\n",
       "        [2, 0, 2, 0, 0, 0, 0, 1, 0, 0, 0],\n",
       "        [1, 0, 1, 0, 0, 0, 0, 0, 0, 0, 0],\n",
       "        [2, 0, 0, 0, 0, 0, 1, 0, 0, 0, 2],\n",
       "        [1, 0, 0, 0, 0, 1, 0, 0, 0, 0, 3],\n",
       "        [0, 1, 0, 0, 0, 1, 2, 0, 0, 0, 1],\n",
       "        [1, 0, 0, 0, 0, 0, 2, 0, 0, 0, 1],\n",
       "        [1, 0, 0, 0, 0, 0, 0, 0, 0, 0, 0]], dtype=int64)"
      ]
     },
     "execution_count": 6,
     "metadata": {},
     "output_type": "execute_result"
    }
   ],
   "source": [
    "x_toy_s5_w3.todense()"
   ]
  },
  {
   "cell_type": "code",
   "execution_count": 7,
   "metadata": {},
   "outputs": [
    {
     "data": {
      "text/plain": [
       "array([1, 1, 1, 1, 1, 2, 2, 3, 3, 3, 3, 3])"
      ]
     },
     "execution_count": 7,
     "metadata": {},
     "output_type": "execute_result"
    }
   ],
   "source": [
    "y_s5_w3"
   ]
  },
  {
   "cell_type": "markdown",
   "metadata": {},
   "source": [
    "Запустите созданную функцию 16 раз с помощью циклов по числу пользователей `num_users` (10 или 150), значениям параметра `session_length` (15, 10, 7 или 5) и значениям параметра `window_size` (10, 7 или 5). Сериализуйте все 16 разреженных матриц (обучающие выборки) и векторов (метки целевого класса – ID пользователя) в файлы `X_sparse_{num_users}users_s{session_length}_w{window_size}.pkl` и `y_{num_users}users_s{session_length}_w{window_size}.pkl`."
   ]
  },
  {
   "cell_type": "code",
   "execution_count": 17,
   "metadata": {},
   "outputs": [
    {
     "data": {
      "application/vnd.jupyter.widget-view+json": {
       "model_id": "f3a174c6e0c04069a758777085b37dff",
       "version_major": 2,
       "version_minor": 0
      },
      "text/plain": [
       "HBox(children=(IntProgress(value=1, bar_style='info', description='10 users', max=1, style=ProgressStyle(descr…"
      ]
     },
     "metadata": {},
     "output_type": "display_data"
    },
    {
     "name": "stdout",
     "output_type": "stream",
     "text": [
      "\n"
     ]
    },
    {
     "data": {
      "application/vnd.jupyter.widget-view+json": {
       "model_id": "848515f3e2454952a755290ebc7f5a8d",
       "version_major": 2,
       "version_minor": 0
      },
      "text/plain": [
       "HBox(children=(IntProgress(value=1, bar_style='info', description='150 users', max=1, style=ProgressStyle(desc…"
      ]
     },
     "metadata": {},
     "output_type": "display_data"
    },
    {
     "name": "stdout",
     "output_type": "stream",
     "text": [
      "\n",
      "CPU times: user 52.8 s, sys: 1.45 s, total: 54.2 s\n",
      "Wall time: 54.4 s\n"
     ]
    }
   ],
   "source": [
    "%%time\n",
    "\n",
    "data_lengths = []\n",
    "\n",
    "for users_number in [10, 150]:\n",
    "    for window_size, session_length in tqdm_notebook(product([10, 7, 5], [15, 10, 7, 5]), desc=f'{users_number} users'):\n",
    "        if window_size <= session_length and (window_size, session_length) != (10, 10):\n",
    "            x, y = prepare_sparse_train_set_window(\n",
    "                Path(f'{users_number}users'),\n",
    "                session_length=session_length,\n",
    "                window_size=window_size,\n",
    "            )\n",
    "            Path(f'x_{users_number}users_s{session_length}_w{window_size}.pkl').write_bytes(pickle.dumps(x))\n",
    "            Path(f'y_{users_number}users_s{session_length}_w{window_size}.pkl').write_bytes(pickle.dumps(y))\n",
    "            data_lengths.append(x.shape[0])"
   ]
  },
  {
   "cell_type": "code",
   "execution_count": 18,
   "metadata": {},
   "outputs": [
    {
     "data": {
      "text/plain": [
       "103"
      ]
     },
     "execution_count": 18,
     "metadata": {},
     "output_type": "execute_result"
    }
   ],
   "source": [
    "Path('answer2_1.txt').write_text(' '.join(map(str, data_lengths)))"
   ]
  },
  {
   "cell_type": "markdown",
   "metadata": {},
   "source": [
    "## Часть 2. Первичный анализ данных, проверка гипотез"
   ]
  },
  {
   "cell_type": "markdown",
   "metadata": {},
   "source": [
    "Считаем в `DataFrame` подготовленный на 1 неделе файл `train_data_10users.csv`. Далее будем работать с ним."
   ]
  },
  {
   "cell_type": "code",
   "execution_count": 23,
   "metadata": {},
   "outputs": [],
   "source": [
    "def prepare_train_set(path: Path, session_length: int = 10) -> Tuple[DataFrame, Dict[str, Tuple[int, int]]]:\n",
    "    # List of visited sites per each user.\n",
    "    user_sites: List[Tuple[int, List[str]]] = [\n",
    "        (int(csv_path.stem[-4:]), [row['site'] for row in csv.DictReader(csv_path.open('rt'))])\n",
    "        for csv_path in sorted(path.glob('*.csv'))\n",
    "    ]\n",
    "        \n",
    "    # Count visits per each site.\n",
    "    site_frequencies = Counter(chain.from_iterable(sites for _, sites in user_sites))\n",
    "    \n",
    "    # Assign an incremental ID to each unique site.\n",
    "    site_ids: Dict[str, int] = dict(zip(site_frequencies, count(start=1)))\n",
    "        \n",
    "    frame = DataFrame([\n",
    "        # User ID and each of `session_length` visited sites.\n",
    "        {'user_id': user_id, **{\n",
    "            # Assign `0` if session is too short.\n",
    "            f'site_{i:02d}': site_ids.get(site, 0)\n",
    "            for i, site in zip_longest(range(1, session_length + 1), session)\n",
    "        }}\n",
    "        for user_id, sites in user_sites\n",
    "        for session in sliced(sites, session_length)  # split user's sites into sessions\n",
    "    ], dtype=int)\n",
    "    frequency_dict = {\n",
    "        site: (site_id, site_frequencies[site]) \n",
    "        for site, site_id in site_ids.items()\n",
    "    }\n",
    "    return frame, frequency_dict"
   ]
  },
  {
   "cell_type": "code",
   "execution_count": 63,
   "metadata": {},
   "outputs": [],
   "source": [
    "frame_10users, frequencies_10 = prepare_train_set(Path('10users'))"
   ]
  },
  {
   "cell_type": "code",
   "execution_count": 26,
   "metadata": {},
   "outputs": [
    {
     "data": {
      "text/html": [
       "<div>\n",
       "<style scoped>\n",
       "    .dataframe tbody tr th:only-of-type {\n",
       "        vertical-align: middle;\n",
       "    }\n",
       "\n",
       "    .dataframe tbody tr th {\n",
       "        vertical-align: top;\n",
       "    }\n",
       "\n",
       "    .dataframe thead th {\n",
       "        text-align: right;\n",
       "    }\n",
       "</style>\n",
       "<table border=\"1\" class=\"dataframe\">\n",
       "  <thead>\n",
       "    <tr style=\"text-align: right;\">\n",
       "      <th></th>\n",
       "      <th>site_01</th>\n",
       "      <th>site_02</th>\n",
       "      <th>site_03</th>\n",
       "      <th>site_04</th>\n",
       "      <th>site_05</th>\n",
       "      <th>site_06</th>\n",
       "      <th>site_07</th>\n",
       "      <th>site_08</th>\n",
       "      <th>site_09</th>\n",
       "      <th>site_10</th>\n",
       "      <th>user_id</th>\n",
       "    </tr>\n",
       "  </thead>\n",
       "  <tbody>\n",
       "    <tr>\n",
       "      <th>0</th>\n",
       "      <td>1</td>\n",
       "      <td>2</td>\n",
       "      <td>3</td>\n",
       "      <td>4</td>\n",
       "      <td>3</td>\n",
       "      <td>3</td>\n",
       "      <td>4</td>\n",
       "      <td>3</td>\n",
       "      <td>5</td>\n",
       "      <td>3</td>\n",
       "      <td>31</td>\n",
       "    </tr>\n",
       "    <tr>\n",
       "      <th>1</th>\n",
       "      <td>6</td>\n",
       "      <td>7</td>\n",
       "      <td>8</td>\n",
       "      <td>9</td>\n",
       "      <td>3</td>\n",
       "      <td>10</td>\n",
       "      <td>11</td>\n",
       "      <td>12</td>\n",
       "      <td>13</td>\n",
       "      <td>14</td>\n",
       "      <td>31</td>\n",
       "    </tr>\n",
       "    <tr>\n",
       "      <th>2</th>\n",
       "      <td>14</td>\n",
       "      <td>4</td>\n",
       "      <td>14</td>\n",
       "      <td>14</td>\n",
       "      <td>15</td>\n",
       "      <td>16</td>\n",
       "      <td>6</td>\n",
       "      <td>17</td>\n",
       "      <td>18</td>\n",
       "      <td>14</td>\n",
       "      <td>31</td>\n",
       "    </tr>\n",
       "    <tr>\n",
       "      <th>3</th>\n",
       "      <td>19</td>\n",
       "      <td>20</td>\n",
       "      <td>19</td>\n",
       "      <td>14</td>\n",
       "      <td>14</td>\n",
       "      <td>14</td>\n",
       "      <td>14</td>\n",
       "      <td>21</td>\n",
       "      <td>22</td>\n",
       "      <td>23</td>\n",
       "      <td>31</td>\n",
       "    </tr>\n",
       "    <tr>\n",
       "      <th>4</th>\n",
       "      <td>24</td>\n",
       "      <td>14</td>\n",
       "      <td>15</td>\n",
       "      <td>25</td>\n",
       "      <td>26</td>\n",
       "      <td>27</td>\n",
       "      <td>28</td>\n",
       "      <td>29</td>\n",
       "      <td>30</td>\n",
       "      <td>29</td>\n",
       "      <td>31</td>\n",
       "    </tr>\n",
       "  </tbody>\n",
       "</table>\n",
       "</div>"
      ],
      "text/plain": [
       "   site_01  site_02  site_03  site_04  site_05  site_06  site_07  site_08  \\\n",
       "0        1        2        3        4        3        3        4        3   \n",
       "1        6        7        8        9        3       10       11       12   \n",
       "2       14        4       14       14       15       16        6       17   \n",
       "3       19       20       19       14       14       14       14       21   \n",
       "4       24       14       15       25       26       27       28       29   \n",
       "\n",
       "   site_09  site_10  user_id  \n",
       "0        5        3       31  \n",
       "1       13       14       31  \n",
       "2       18       14       31  \n",
       "3       22       23       31  \n",
       "4       30       29       31  "
      ]
     },
     "execution_count": 26,
     "metadata": {},
     "output_type": "execute_result"
    }
   ],
   "source": [
    "frame_10users.head()"
   ]
  },
  {
   "cell_type": "markdown",
   "metadata": {},
   "source": [
    "Распределение целевого класса:"
   ]
  },
  {
   "cell_type": "code",
   "execution_count": 28,
   "metadata": {},
   "outputs": [
    {
     "data": {
      "text/plain": [
       "128    2796\n",
       "39     2204\n",
       "207    1868\n",
       "127    1712\n",
       "237    1643\n",
       "33     1022\n",
       "50      802\n",
       "31      760\n",
       "100     720\n",
       "241     534\n",
       "Name: user_id, dtype: int64"
      ]
     },
     "execution_count": 28,
     "metadata": {},
     "output_type": "execute_result"
    }
   ],
   "source": [
    "frame_10users['user_id'].value_counts()"
   ]
  },
  {
   "cell_type": "markdown",
   "metadata": {},
   "source": [
    "Посчитаем распределение числа уникальных сайтов в каждой сессии из 10 посещенных подряд сайтов."
   ]
  },
  {
   "cell_type": "code",
   "execution_count": 39,
   "metadata": {},
   "outputs": [
    {
     "data": {
      "text/plain": [
       "7     2308\n",
       "6     2197\n",
       "8     2046\n",
       "5     1735\n",
       "9     1394\n",
       "2     1246\n",
       "4     1163\n",
       "3      894\n",
       "10     651\n",
       "1      427\n",
       "dtype: int64"
      ]
     },
     "execution_count": 39,
     "metadata": {},
     "output_type": "execute_result"
    }
   ],
   "source": [
    "unique_sites_series = pandas.Series([len(set(row[:-1])) for _, row in frame_10users.iterrows()])\n",
    "unique_sites_series.value_counts()"
   ]
  },
  {
   "cell_type": "code",
   "execution_count": 42,
   "metadata": {},
   "outputs": [
    {
     "data": {
      "text/plain": [
       "<matplotlib.axes._subplots.AxesSubplot at 0x119a8d550>"
      ]
     },
     "execution_count": 42,
     "metadata": {},
     "output_type": "execute_result"
    },
    {
     "data": {
      "image/png": "[encoded data removed]",
      "text/plain": [
       "<Figure size 432x288 with 1 Axes>"
      ]
     },
     "metadata": {
      "needs_background": "light"
     },
     "output_type": "display_data"
    }
   ],
   "source": [
    "unique_sites_series.hist()"
   ]
  },
  {
   "cell_type": "markdown",
   "metadata": {},
   "source": [
    "Распределено ли нормально число уникальных сайтов в каждой сессии из 10 посещенных подряд сайтов (согласно критерию Шапиро-Уилка)?"
   ]
  },
  {
   "cell_type": "code",
   "execution_count": 48,
   "metadata": {},
   "outputs": [
    {
     "name": "stderr",
     "output_type": "stream",
     "text": [
      "/Users/eigenein/GitHub/mipt-ya-ml-spec/venv/lib/python3.7/site-packages/scipy/stats/morestats.py:1309: UserWarning: p-value may not be accurate for N > 5000.\n",
      "  warnings.warn(\"p-value may not be accurate for N > 5000.\")\n"
     ]
    },
    {
     "data": {
      "text/plain": [
       "2"
      ]
     },
     "execution_count": 48,
     "metadata": {},
     "output_type": "execute_result"
    }
   ],
   "source": [
    "w, p = stats.shapiro(unique_sites_series)\n",
    "Path('answer2_2.txt').write_text('YES' if p > 0.05 else 'NO')"
   ]
  },
  {
   "cell_type": "markdown",
   "metadata": {},
   "source": [
    "Проверьте гипотезу о том, что пользователь хотя бы раз зайдет на сайт, который он уже ранее посетил в сессии из 10 сайтов. Давайте проверим с помощью биномиального критерия для доли, что доля случаев, когда пользователь повторно посетил какой-то сайт (то есть число уникальных сайтов в сессии < 10) велика: больше 95% (обратите внимание, что альтернатива тому, что доля равна 95% – одностороняя). Ответом на 3 вопрос в тесте будет полученное p-value."
   ]
  },
  {
   "cell_type": "code",
   "execution_count": 53,
   "metadata": {},
   "outputs": [
    {
     "data": {
      "text/plain": [
       "19"
      ]
     },
     "execution_count": 53,
     "metadata": {},
     "output_type": "execute_result"
    }
   ],
   "source": [
    "p = stats.binom_test((unique_sites_series < 10).sum(), len(unique_sites_series), 0.95, 'greater')\n",
    "Path('answer2_3.txt').write_text(str(p))"
   ]
  },
  {
   "cell_type": "markdown",
   "metadata": {},
   "source": [
    "Каков 95% доверительный интервал Уилсона для доли случаев, когда пользователь повторно посетил какой-то сайт (из п. 3)?"
   ]
  },
  {
   "cell_type": "code",
   "execution_count": 62,
   "metadata": {},
   "outputs": [
    {
     "data": {
      "text/plain": [
       "10"
      ]
     },
     "execution_count": 62,
     "metadata": {},
     "output_type": "execute_result"
    }
   ],
   "source": [
    "left, right = proportion_confint((unique_sites_series < 10).sum(), len(unique_sites_series), method='wilson')\n",
    "Path('answer2_4.txt').write_text(f'{left:.3} {right:.3}')"
   ]
  },
  {
   "cell_type": "markdown",
   "metadata": {},
   "source": [
    "Каков 95% доверительный интервал для средней частоты появления сайта в выборке?"
   ]
  },
  {
   "cell_type": "code",
   "execution_count": 96,
   "metadata": {},
   "outputs": [],
   "source": [
    "def get_bootstrap_samples(data, n_samples, random_seed=17):\n",
    "    numpy.random.seed(random_seed)\n",
    "    indices = numpy.random.randint(0, len(data), (n_samples, len(data)))\n",
    "    return data[indices]\n",
    "\n",
    "\n",
    "def stat_intervals(stat, alpha=0.05):\n",
    "    return numpy.percentile(stat, [100 * alpha / 2, 100 * (1 - alpha / 2)])\n",
    "\n",
    "\n",
    "left, right = stat_intervals(get_bootstrap_samples(\n",
    "    numpy.array(sorted([freq for _, freq in frequencies_10.values()], reverse=True)),\n",
    "    len(frequencies_10),\n",
    ").mean(axis=1))"
   ]
  },
  {
   "cell_type": "code",
   "execution_count": 97,
   "metadata": {},
   "outputs": [
    {
     "data": {
      "text/plain": [
       "(22.515245267657235, 35.763036841033994)"
      ]
     },
     "execution_count": 97,
     "metadata": {},
     "output_type": "execute_result"
    }
   ],
   "source": [
    "left, right"
   ]
  },
  {
   "cell_type": "code",
   "execution_count": 98,
   "metadata": {},
   "outputs": [
    {
     "data": {
      "text/plain": [
       "9"
      ]
     },
     "execution_count": 98,
     "metadata": {},
     "output_type": "execute_result"
    }
   ],
   "source": [
    "Path('answer2_5.txt').write_text(f'{left:.3} {right:.3}')"
   ]
  }
 ],
 "metadata": {
  "kernelspec": {
   "display_name": "Python 3",
   "language": "python",
   "name": "python3"
  },
  "language_info": {
   "codemirror_mode": {
    "name": "ipython",
    "version": 3
   },
   "file_extension": ".py",
   "mimetype": "text/x-python",
   "name": "python",
   "nbconvert_exporter": "python",
   "pygments_lexer": "ipython3",
   "version": "3.7.1"
  }
 },
 "nbformat": 4,
 "nbformat_minor": 2
}
