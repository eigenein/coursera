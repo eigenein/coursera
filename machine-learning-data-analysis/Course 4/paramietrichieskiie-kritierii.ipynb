{
 "cells": [
  {
   "cell_type": "code",
   "execution_count": 1,
   "metadata": {},
   "outputs": [],
   "source": [
    "from math import sqrt\n",
    "\n",
    "from pandas import read_csv\n",
    "from scipy import stats\n",
    "from sklearn import linear_model, model_selection\n",
    "from statsmodels.stats.proportion import proportion_confint"
   ]
  },
  {
   "cell_type": "markdown",
   "metadata": {},
   "source": [
    "### 1"
   ]
  },
  {
   "cell_type": "markdown",
   "metadata": {},
   "source": [
    "Версия множителей Лагранжа."
   ]
  },
  {
   "cell_type": "markdown",
   "metadata": {},
   "source": [
    "### 2"
   ]
  },
  {
   "cell_type": "markdown",
   "metadata": {},
   "source": [
    "О количестве несовпадающих пар значений признаков и объеме выборок."
   ]
  },
  {
   "cell_type": "markdown",
   "metadata": {},
   "source": [
    "### 3"
   ]
  },
  {
   "cell_type": "code",
   "execution_count": 4,
   "metadata": {},
   "outputs": [
    {
     "data": {
      "text/plain": [
       "0.37290000000000001"
      ]
     },
     "execution_count": 4,
     "metadata": {},
     "output_type": "execute_result"
    }
   ],
   "source": [
    "def proportions_diff_z_stat_ind(s1, n1, s2, n2):\n",
    "    p1 = s1 / n1\n",
    "    p2 = s2 / n2 \n",
    "    P = float(p1 * n1 + p2 * n2) / (n1 + n2)\n",
    "    \n",
    "    return (p1 - p2) / sqrt(P * (1 - P) * (1. / n1 + 1. / n2))\n",
    "\n",
    "\n",
    "def proportions_diff_z_test(z_stat, alternative='two-sided'):\n",
    "    if alternative == 'two-sided':\n",
    "        return 2 * (1 - stats.norm.cdf(abs(z_stat)))\n",
    "    \n",
    "    if alternative == 'less':\n",
    "        return stats.norm.cdf(z_stat)\n",
    "\n",
    "    if alternative == 'greater':\n",
    "        return 1 - stats.norm.cdf(z_stat)\n",
    "\n",
    "\n",
    "# Левая односторонняя гипотеза: первые два параметра относятся к экспериментальной группе и\n",
    "# по определению эксперимента они не могут зевать меньше.\n",
    "round(proportions_diff_z_test(proportions_diff_z_stat_ind(4, 16, 10, 34), 'less'), 4)"
   ]
  },
  {
   "cell_type": "markdown",
   "metadata": {},
   "source": [
    "### 4"
   ]
  },
  {
   "cell_type": "code",
   "execution_count": 19,
   "metadata": {},
   "outputs": [],
   "source": [
    "def proportions_diff_z_stat_rel(f: float, g: float, n: int) -> float:\n",
    "    return (f - g) / sqrt(f + g - (f - g) ** 2 / n)"
   ]
  },
  {
   "cell_type": "code",
   "execution_count": 21,
   "metadata": {},
   "outputs": [
    {
     "data": {
      "text/plain": [
       "'3.296938E-03'"
      ]
     },
     "execution_count": 21,
     "metadata": {},
     "output_type": "execute_result"
    }
   ],
   "source": [
    "banknotes = read_csv('banknotes.txt', sep='\\t')\n",
    "\n",
    "X = banknotes[['X1', 'X2', 'X3', 'X4', 'X5', 'X6']]\n",
    "y = banknotes['real']\n",
    "X_train, X_test, y_train, y_test = model_selection.train_test_split(X, y, test_size=50, random_state=1)\n",
    "\n",
    "errors_1 = linear_model.LogisticRegression() \\\n",
    "    .fit(X_train[['X1', 'X2', 'X3']], y_train) \\\n",
    "    .predict(X_test[['X1', 'X2', 'X3']]) != y_test\n",
    "errors_2 = linear_model.LogisticRegression() \\\n",
    "    .fit(X_train[['X4', 'X5', 'X6']], y_train) \\\n",
    "    .predict(X_test[['X4', 'X5', 'X6']]) != y_test\n",
    "\n",
    "f = ((errors_1 == 1) & (errors_2 == 0)).sum()\n",
    "g = ((errors_1 == 0) & (errors_2 == 1)).sum()\n",
    "    \n",
    "p_value = proportions_diff_z_test(proportions_diff_z_stat_rel(f, g, 50))\n",
    "f'{p_value:E}'"
   ]
  },
  {
   "cell_type": "markdown",
   "metadata": {},
   "source": [
    "### 5"
   ]
  },
  {
   "cell_type": "code",
   "execution_count": 26,
   "metadata": {},
   "outputs": [
    {
     "name": "stdout",
     "output_type": "stream",
     "text": [
      "0.0599452062796 0.30005479372\n"
     ]
    },
    {
     "data": {
      "text/plain": [
       "0.059900000000000002"
      ]
     },
     "execution_count": 26,
     "metadata": {},
     "output_type": "execute_result"
    }
   ],
   "source": [
    "def proportions_diff_confint_rel(f: float, g: float, n: int, alpha=0.05) -> (float, float):\n",
    "    z = stats.norm.ppf(1 - alpha / 2.)\n",
    "    mu = (f - g) / n\n",
    "    interval = z * sqrt((f + g) / n ** 2 - (f - g) ** 2 / (n ** 3))\n",
    "    return (mu - interval, mu + interval)\n",
    "\n",
    "\n",
    "left, right = proportions_diff_confint_rel(f, g, 50)\n",
    "print(left, right)\n",
    "round(left, 4)"
   ]
  },
  {
   "cell_type": "markdown",
   "metadata": {},
   "source": [
    "### 6"
   ]
  },
  {
   "cell_type": "code",
   "execution_count": 27,
   "metadata": {},
   "outputs": [
    {
     "data": {
      "text/plain": [
       "0.050500000000000003"
      ]
     },
     "execution_count": 27,
     "metadata": {},
     "output_type": "execute_result"
    }
   ],
   "source": [
    "# Просто одновыборочный Z-критерий (дисперсия известна).\n",
    "z = (541.4 - 525) / (100 / sqrt(100))\n",
    "round(1.0 - stats.norm.cdf(abs(z)), 4)"
   ]
  },
  {
   "cell_type": "markdown",
   "metadata": {},
   "source": [
    "### 7"
   ]
  },
  {
   "cell_type": "code",
   "execution_count": 28,
   "metadata": {},
   "outputs": [
    {
     "data": {
      "text/plain": [
       "0.049500000000000002"
      ]
     },
     "execution_count": 28,
     "metadata": {},
     "output_type": "execute_result"
    }
   ],
   "source": [
    "z = (541.5 - 525) / (100 / sqrt(100))\n",
    "round(1.0 - stats.norm.cdf(abs(z)), 4)"
   ]
  }
 ],
 "metadata": {
  "kernelspec": {
   "display_name": "Python 3",
   "language": "python",
   "name": "python3"
  },
  "language_info": {
   "codemirror_mode": {
    "name": "ipython",
    "version": 3
   },
   "file_extension": ".py",
   "mimetype": "text/x-python",
   "name": "python",
   "nbconvert_exporter": "python",
   "pygments_lexer": "ipython3",
   "version": "3.6.4"
  }
 },
 "nbformat": 4,
 "nbformat_minor": 2
}
