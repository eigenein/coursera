{
 "cells": [
  {
   "cell_type": "markdown",
   "metadata": {},
   "source": [
    "Небольшой интернет-магазин попросил вас добавить ранжирование товаров в блок \"Смотрели ранее\" - в нем теперь надо показывать не последние просмотренные пользователем товары, а те товары из просмотренных, которые он наиболее вероятно купит. Качество вашего решения будет оцениваться по количеству покупок в сравнении с прошлым решением в ходе А/В теста, т.к. по доходу от продаж статзначимость будет достигаться дольше из-за разброса цен. Таким образом, ничего заранее не зная про корреляцию оффлайновых и онлайновых метрик качества, в начале проекта вы можете лишь постараться оптимизировать `recall@k` и `precision@k`.\n",
    "\n",
    "Это задание посвящено построению простых бейзлайнов для этой задачи: ранжирование просмотренных товаров по частоте просмотров и по частоте покупок. Эти бейзлайны, с одной стороны, могут помочь вам грубо оценить возможный эффект от ранжирования товаров в блоке - например, чтобы вписать какие-то числа в коммерческое предложение заказчику, а с другой стороны, могут оказаться самым хорошим вариантом, если данных очень мало (недостаточно для обучения даже простых моделей).\n",
    "\n",
    "### Входные данные\n",
    "\n",
    "Вам дается две выборки с пользовательскими сессиями - `id`-шниками просмотренных и `id`-шниками купленных товаров. Одна выборка будет использоваться для обучения (оценки популярностей товаров), а другая - для теста.\n",
    "\n",
    "В файлах записаны сессии по одной в каждой строке. Формат сессии: `id` просмотренных товаров через `,` затем идёт `;` после чего следуют `id` купленных товаров (если такие имеются), разделённые запятой. Например, `1,2,3,4;` или `1,2,3,4;5,6`.\n",
    "\n",
    "Гарантируется, что среди `id` купленных товаров все различные.\n",
    "\n",
    "### Важно\n",
    "\n",
    "- Сессии, в которых пользователь ничего не купил, исключаем из оценки качества.\n",
    "- Если товар не встречался в обучающей выборке, его популярность равна `0`.\n",
    "- Рекомендуем разные товары. И их число должно быть не больше, чем количество различных просмотренных пользователем товаров.\n",
    "- Рекомендаций всегда не больше, чем минимум из двух чисел: количество просмотренных пользователем товаров и `k` в `recall@k` / `precision@k`."
   ]
  },
  {
   "cell_type": "code",
   "execution_count": 27,
   "metadata": {},
   "outputs": [],
   "source": [
    "from dataclasses import dataclass\n",
    "from operator import truth\n",
    "from pathlib import Path\n",
    "from typing import Iterable, List, Tuple\n",
    "\n",
    "\n",
    "@dataclass\n",
    "class Session:\n",
    "    viewed: List[str]\n",
    "    bought: List[str]\n",
    "\n",
    "        \n",
    "def read_sessions(path: Path) -> Iterable[Session]:\n",
    "    for line in path.open('rt'):\n",
    "        viewed, bought = line.strip().split(';')\n",
    "        yield Session(viewed=viewed.split(','), bought=list(filter(truth, bought.split(','))))"
   ]
  },
  {
   "cell_type": "code",
   "execution_count": 28,
   "metadata": {},
   "outputs": [],
   "source": [
    "train_sessions = list(read_sessions(Path('coursera_sessions_train.txt')))\n",
    "test_sessions = list(read_sessions(Path('coursera_sessions_test.txt')))"
   ]
  },
  {
   "cell_type": "markdown",
   "metadata": {},
   "source": [
    "На обучении постройте частоты появления `id` в просмотренных и в купленных (`id` может несколько раз появляться в просмотренных, все появления надо учитывать)"
   ]
  },
  {
   "cell_type": "code",
   "execution_count": 12,
   "metadata": {},
   "outputs": [],
   "source": [
    "from collections import Counter\n",
    "from itertools import chain\n",
    "\n",
    "viewed_frequencies = Counter(chain.from_iterable(_.viewed for _ in train_sessions))\n",
    "bought_frequencies = Counter(chain.from_iterable(_.bought for _ in train_sessions))"
   ]
  },
  {
   "cell_type": "markdown",
   "metadata": {},
   "source": [
    "Реализуйте два алгоритма рекомендаций:\n",
    "- сортировка просмотренных `id` по популярности (частота появления в просмотренных),\n",
    "- сортировка просмотренных `id` по покупаемости (частота появления в покупках)."
   ]
  },
  {
   "cell_type": "code",
   "execution_count": 38,
   "metadata": {},
   "outputs": [],
   "source": [
    "def precision(recommended: List[str], bought: List[str], k: int) -> float:\n",
    "    return len(set(recommended) & set(bought)) / k\n",
    "\n",
    "\n",
    "def recall(recommended: List[str], bought: List[str], k: int) -> float:\n",
    "    return len(set(recommended) & set(bought)) / len(bought)"
   ]
  },
  {
   "cell_type": "code",
   "execution_count": 41,
   "metadata": {},
   "outputs": [],
   "source": [
    "from more_itertools import unique_everseen\n",
    "\n",
    "\n",
    "def make_recommendations(sessions: Iterable[Session], frequencies: Counter, k: int) -> Iterable[Tuple[List[str], List[str]]]:\n",
    "    for session in sessions:\n",
    "        if session.bought:\n",
    "            unique_sorted_viewed = sorted(unique_everseen(session.viewed), key=frequencies.__getitem__, reverse=True)\n",
    "            yield unique_sorted_viewed[:k], session.bought"
   ]
  },
  {
   "cell_type": "markdown",
   "metadata": {},
   "source": [
    "Для данных алгоритмов выпишите через пробел `AverageRecall@1`, `AveragePrecision@1`, `AverageRecall@5`, `AveragePrecision@5` на обучающей и тестовых выборках, округляя до 2 знака после запятой. Это будут ваши ответы в этом задании. Посмотрите, как они соотносятся друг с другом. Где качество получилось выше? Значимо ли это различие? Обратите внимание на различие качества на обучающей и тестовой выборке в случае рекомендаций по частотам покупки.\n",
    "\n",
    "Если частота одинаковая, то сортировать нужно по возрастанию момента просмотра (чем раньше появился в просмотренных, тем больше приоритет)."
   ]
  },
  {
   "cell_type": "code",
   "execution_count": 39,
   "metadata": {},
   "outputs": [],
   "source": [
    "from typing import Callable\n",
    "\n",
    "\n",
    "def average_metric(\n",
    "    sessions: Iterable[Session],\n",
    "    frequencies: Counter,\n",
    "    k: int,\n",
    "    metric: Callable[[List[str], List[str], int], float],\n",
    ") -> float:\n",
    "    recommendations = list(make_recommendations(sessions, frequencies, k))\n",
    "    return sum(metric(recommended, bought, k) for recommended, bought in recommendations) / len(recommendations)"
   ]
  },
  {
   "cell_type": "code",
   "execution_count": 42,
   "metadata": {},
   "outputs": [],
   "source": [
    "def write_answer(path: Path, sessions: Iterable[Session], frequencies: Counter):\n",
    "    with path.open('wt') as fp:\n",
    "        fp.write(\n",
    "            f'{average_metric(sessions, frequencies, 1, recall):.2f} '\n",
    "            f'{average_metric(sessions, frequencies, 1, precision):.2f} '\n",
    "            f'{average_metric(sessions, frequencies, 5, recall):.2f} '\n",
    "            f'{average_metric(sessions, frequencies, 5, precision):.2f}'\n",
    "        )\n",
    "\n",
    "\n",
    "write_answer(Path('views_popularity_train.txt'), train_sessions, viewed_frequencies)\n",
    "write_answer(Path('purchases_popularity_train.txt'), train_sessions, bought_frequencies)\n",
    "write_answer(Path('views_popularity_test.txt'), test_sessions, viewed_frequencies)\n",
    "write_answer(Path('purchases_popularity_test.txt'), test_sessions, bought_frequencies)"
   ]
  }
 ],
 "metadata": {
  "kernelspec": {
   "display_name": "Python 3",
   "language": "python",
   "name": "python3"
  },
  "language_info": {
   "codemirror_mode": {
    "name": "ipython",
    "version": 3
   },
   "file_extension": ".py",
   "mimetype": "text/x-python",
   "name": "python",
   "nbconvert_exporter": "python",
   "pygments_lexer": "ipython3",
   "version": "3.7.0"
  }
 },
 "nbformat": 4,
 "nbformat_minor": 2
}
